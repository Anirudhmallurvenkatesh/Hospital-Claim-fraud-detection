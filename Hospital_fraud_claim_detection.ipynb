{
 "cells": [
  {
   "cell_type": "code",
   "execution_count": 1,
   "metadata": {},
   "outputs": [],
   "source": [
    "#import libraries\n",
    "import pandas as pd\n",
    "import numpy as np\n",
    "import seaborn as sns\n",
    "import matplotlib.pyplot as plt\n",
    "from sklearn.utils import resample\n",
    "from sklearn.preprocessing import LabelBinarizer, LabelEncoder\n",
    "from sklearn.model_selection import train_test_split, cross_val_score\n",
    "\n",
    "from sklearn.ensemble import RandomForestClassifier\n",
    "from sklearn.metrics import classification_report, confusion_matrix\n",
    "\n",
    "from sklearn.model_selection import StratifiedKFold \n",
    "from collections import Counter\n",
    "\n",
    "from joblib import dump, load\n",
    "\n",
    "import warnings\n",
    "warnings.filterwarnings('ignore')\n",
    "\n",
    "\n",
    "pd.set_option('display.max_columns', 2000)\n",
    "pd.set_option('display.max_rows', 500)"
   ]
  },
  {
   "cell_type": "code",
   "execution_count": 2,
   "metadata": {},
   "outputs": [
    {
     "data": {
      "text/html": [
       "<div>\n",
       "<style scoped>\n",
       "    .dataframe tbody tr th:only-of-type {\n",
       "        vertical-align: middle;\n",
       "    }\n",
       "\n",
       "    .dataframe tbody tr th {\n",
       "        vertical-align: top;\n",
       "    }\n",
       "\n",
       "    .dataframe thead th {\n",
       "        text-align: right;\n",
       "    }\n",
       "</style>\n",
       "<table border=\"1\" class=\"dataframe\">\n",
       "  <thead>\n",
       "    <tr style=\"text-align: right;\">\n",
       "      <th></th>\n",
       "      <th>Area_Service</th>\n",
       "      <th>Hospital County</th>\n",
       "      <th>Hospital Id</th>\n",
       "      <th>Age</th>\n",
       "      <th>Gender</th>\n",
       "      <th>Cultural_group</th>\n",
       "      <th>ethnicity</th>\n",
       "      <th>Days_spend_hsptl</th>\n",
       "      <th>Admission_type</th>\n",
       "      <th>Home or self care,</th>\n",
       "      <th>ccs_diagnosis_code</th>\n",
       "      <th>ccs_procedure_code</th>\n",
       "      <th>apr_drg_description</th>\n",
       "      <th>Code_illness</th>\n",
       "      <th>Mortality risk</th>\n",
       "      <th>Surg_Description</th>\n",
       "      <th>Weight_baby</th>\n",
       "      <th>Abortion</th>\n",
       "      <th>Emergency dept_yes/No</th>\n",
       "      <th>Tot_charg</th>\n",
       "      <th>Tot_cost</th>\n",
       "      <th>ratio_of_total_costs_to_total_charges</th>\n",
       "      <th>Result</th>\n",
       "      <th>Payment_Typology</th>\n",
       "    </tr>\n",
       "  </thead>\n",
       "  <tbody>\n",
       "    <tr>\n",
       "      <th>0</th>\n",
       "      <td>Western NY</td>\n",
       "      <td>Allegany</td>\n",
       "      <td>37.0</td>\n",
       "      <td>30 to 49</td>\n",
       "      <td>F</td>\n",
       "      <td>White</td>\n",
       "      <td>Not Span/Hispanic</td>\n",
       "      <td>4</td>\n",
       "      <td>Elective</td>\n",
       "      <td>Home or Self Care</td>\n",
       "      <td>122</td>\n",
       "      <td>0</td>\n",
       "      <td>Other pneumonia</td>\n",
       "      <td>1</td>\n",
       "      <td>1.0</td>\n",
       "      <td>Medical</td>\n",
       "      <td>0</td>\n",
       "      <td>N</td>\n",
       "      <td>Y</td>\n",
       "      <td>5511.95</td>\n",
       "      <td>5582.49</td>\n",
       "      <td>1.012798</td>\n",
       "      <td>1</td>\n",
       "      <td>1</td>\n",
       "    </tr>\n",
       "    <tr>\n",
       "      <th>1</th>\n",
       "      <td>Western NY</td>\n",
       "      <td>Allegany</td>\n",
       "      <td>37.0</td>\n",
       "      <td>70 or Older</td>\n",
       "      <td>F</td>\n",
       "      <td>White</td>\n",
       "      <td>Not Span/Hispanic</td>\n",
       "      <td>4</td>\n",
       "      <td>Urgent</td>\n",
       "      <td>Short-term Hospital</td>\n",
       "      <td>197</td>\n",
       "      <td>0</td>\n",
       "      <td>Cellulitis &amp; other skin infections</td>\n",
       "      <td>3</td>\n",
       "      <td>2.0</td>\n",
       "      <td>Medical</td>\n",
       "      <td>0</td>\n",
       "      <td>N</td>\n",
       "      <td>Y</td>\n",
       "      <td>4783.20</td>\n",
       "      <td>5162.82</td>\n",
       "      <td>1.079365</td>\n",
       "      <td>1</td>\n",
       "      <td>1</td>\n",
       "    </tr>\n",
       "    <tr>\n",
       "      <th>2</th>\n",
       "      <td>Western NY</td>\n",
       "      <td>Allegany</td>\n",
       "      <td>37.0</td>\n",
       "      <td>30 to 49</td>\n",
       "      <td>F</td>\n",
       "      <td>White</td>\n",
       "      <td>Not Span/Hispanic</td>\n",
       "      <td>3</td>\n",
       "      <td>Urgent</td>\n",
       "      <td>Home or Self Care</td>\n",
       "      <td>122</td>\n",
       "      <td>0</td>\n",
       "      <td>Other pneumonia</td>\n",
       "      <td>1</td>\n",
       "      <td>1.0</td>\n",
       "      <td>Medical</td>\n",
       "      <td>0</td>\n",
       "      <td>N</td>\n",
       "      <td>Y</td>\n",
       "      <td>3829.15</td>\n",
       "      <td>4056.52</td>\n",
       "      <td>1.059379</td>\n",
       "      <td>1</td>\n",
       "      <td>1</td>\n",
       "    </tr>\n",
       "    <tr>\n",
       "      <th>3</th>\n",
       "      <td>Western NY</td>\n",
       "      <td>Allegany</td>\n",
       "      <td>37.0</td>\n",
       "      <td>0 to 17</td>\n",
       "      <td>F</td>\n",
       "      <td>White</td>\n",
       "      <td>Not Span/Hispanic</td>\n",
       "      <td>1</td>\n",
       "      <td>Urgent</td>\n",
       "      <td>Home or Self Care</td>\n",
       "      <td>122</td>\n",
       "      <td>0</td>\n",
       "      <td>Other pneumonia</td>\n",
       "      <td>1</td>\n",
       "      <td>1.0</td>\n",
       "      <td>Medical</td>\n",
       "      <td>0</td>\n",
       "      <td>N</td>\n",
       "      <td>Y</td>\n",
       "      <td>1108.20</td>\n",
       "      <td>1644.75</td>\n",
       "      <td>1.484167</td>\n",
       "      <td>0</td>\n",
       "      <td>1</td>\n",
       "    </tr>\n",
       "    <tr>\n",
       "      <th>4</th>\n",
       "      <td>Western NY</td>\n",
       "      <td>Allegany</td>\n",
       "      <td>37.0</td>\n",
       "      <td>70 or Older</td>\n",
       "      <td>F</td>\n",
       "      <td>White</td>\n",
       "      <td>Not Span/Hispanic</td>\n",
       "      <td>3</td>\n",
       "      <td>Elective</td>\n",
       "      <td>Home or Self Care</td>\n",
       "      <td>122</td>\n",
       "      <td>0</td>\n",
       "      <td>Other pneumonia</td>\n",
       "      <td>2</td>\n",
       "      <td>3.0</td>\n",
       "      <td>Medical</td>\n",
       "      <td>0</td>\n",
       "      <td>N</td>\n",
       "      <td>Y</td>\n",
       "      <td>3418.18</td>\n",
       "      <td>3370.87</td>\n",
       "      <td>0.986161</td>\n",
       "      <td>1</td>\n",
       "      <td>1</td>\n",
       "    </tr>\n",
       "  </tbody>\n",
       "</table>\n",
       "</div>"
      ],
      "text/plain": [
       "  Area_Service Hospital County  Hospital Id          Age Gender  \\\n",
       "0   Western NY        Allegany         37.0     30 to 49      F   \n",
       "1   Western NY        Allegany         37.0  70 or Older      F   \n",
       "2   Western NY        Allegany         37.0     30 to 49      F   \n",
       "3   Western NY        Allegany         37.0      0 to 17      F   \n",
       "4   Western NY        Allegany         37.0  70 or Older      F   \n",
       "\n",
       "  Cultural_group          ethnicity Days_spend_hsptl Admission_type  \\\n",
       "0          White  Not Span/Hispanic                4       Elective   \n",
       "1          White  Not Span/Hispanic                4         Urgent   \n",
       "2          White  Not Span/Hispanic                3         Urgent   \n",
       "3          White  Not Span/Hispanic                1         Urgent   \n",
       "4          White  Not Span/Hispanic                3       Elective   \n",
       "\n",
       "    Home or self care,  ccs_diagnosis_code  ccs_procedure_code  \\\n",
       "0    Home or Self Care                 122                   0   \n",
       "1  Short-term Hospital                 197                   0   \n",
       "2    Home or Self Care                 122                   0   \n",
       "3    Home or Self Care                 122                   0   \n",
       "4    Home or Self Care                 122                   0   \n",
       "\n",
       "                  apr_drg_description  Code_illness  Mortality risk  \\\n",
       "0                     Other pneumonia             1             1.0   \n",
       "1  Cellulitis & other skin infections             3             2.0   \n",
       "2                     Other pneumonia             1             1.0   \n",
       "3                     Other pneumonia             1             1.0   \n",
       "4                     Other pneumonia             2             3.0   \n",
       "\n",
       "  Surg_Description  Weight_baby Abortion Emergency dept_yes/No  Tot_charg  \\\n",
       "0          Medical            0        N                     Y    5511.95   \n",
       "1          Medical            0        N                     Y    4783.20   \n",
       "2          Medical            0        N                     Y    3829.15   \n",
       "3          Medical            0        N                     Y    1108.20   \n",
       "4          Medical            0        N                     Y    3418.18   \n",
       "\n",
       "   Tot_cost  ratio_of_total_costs_to_total_charges  Result  Payment_Typology  \n",
       "0   5582.49                               1.012798       1                 1  \n",
       "1   5162.82                               1.079365       1                 1  \n",
       "2   4056.52                               1.059379       1                 1  \n",
       "3   1644.75                               1.484167       0                 1  \n",
       "4   3370.87                               0.986161       1                 1  "
      ]
     },
     "execution_count": 2,
     "metadata": {},
     "output_type": "execute_result"
    }
   ],
   "source": [
    "#dataset loading\n",
    "dataset = pd.read_csv('C:/Users/Anirudh MV/Downloads/Insurance Dataset.csv')\n",
    "dataset.head()"
   ]
  },
  {
   "cell_type": "code",
   "execution_count": 3,
   "metadata": {},
   "outputs": [
    {
     "data": {
      "text/plain": [
       "Index(['Area_Service', 'Hospital County', 'Hospital Id', 'Age', 'Gender',\n",
       "       'Cultural_group', 'ethnicity', 'Days_spend_hsptl', 'Admission_type',\n",
       "       'Home or self care,', 'ccs_diagnosis_code', 'ccs_procedure_code',\n",
       "       'apr_drg_description', 'Code_illness', 'Mortality risk',\n",
       "       'Surg_Description', 'Weight_baby', 'Abortion', 'Emergency dept_yes/No',\n",
       "       'Tot_charg', 'Tot_cost', 'ratio_of_total_costs_to_total_charges',\n",
       "       'Result', 'Payment_Typology'],\n",
       "      dtype='object')"
      ]
     },
     "execution_count": 3,
     "metadata": {},
     "output_type": "execute_result"
    }
   ],
   "source": [
    "#display coloumns\n",
    "dataset.columns"
   ]
  },
  {
   "cell_type": "code",
   "execution_count": 4,
   "metadata": {},
   "outputs": [
    {
     "data": {
      "text/plain": [
       "array(['Area_Service', 'Hospital_County', 'Hospital_Id', 'Age', 'Gender',\n",
       "       'Cultural_group', 'ethnicity', 'Days_spend_hsptl',\n",
       "       'Admission_type', 'Home_or_self_care,', 'ccs_diagnosis_code',\n",
       "       'ccs_procedure_code', 'apr_drg_description', 'Code_illness',\n",
       "       'Mortality_risk', 'Surg_Description', 'Weight_baby', 'Abortion',\n",
       "       'Emergency_dept_yes_No', 'Tot_charg', 'Tot_cost',\n",
       "       'ratio_of_total_costs_to_total_charges', 'Result',\n",
       "       'Payment_Typology'], dtype=object)"
      ]
     },
     "execution_count": 4,
     "metadata": {},
     "output_type": "execute_result"
    }
   ],
   "source": [
    "# removing spaces in dataset column names..\n",
    "\n",
    "dataset.columns = dataset.columns.to_series().apply(lambda x: x.replace(' ', '_')).to_list()\n",
    "dataset.columns = dataset.columns.to_series().apply(lambda x: x.replace('/', '_')).to_list()\n",
    "dataset.columns.values"
   ]
  },
  {
   "cell_type": "code",
   "execution_count": 5,
   "metadata": {},
   "outputs": [],
   "source": [
    "#rename\n",
    "dataset.rename(columns={'Home_or_self_care,': 'Home_or_self_care'}, inplace=True)"
   ]
  },
  {
   "cell_type": "code",
   "execution_count": 6,
   "metadata": {},
   "outputs": [],
   "source": [
    "data= pd.read_csv('C:/Users/Anirudh MV/Downloads/Insurance Dataset.csv')\n",
    "data_sample_view = data.head(2)"
   ]
  },
  {
   "cell_type": "code",
   "execution_count": 7,
   "metadata": {},
   "outputs": [
    {
     "data": {
      "text/plain": [
       "['data_sample_view.joblib']"
      ]
     },
     "execution_count": 7,
     "metadata": {},
     "output_type": "execute_result"
    }
   ],
   "source": [
    "# for deployment part...sample dataframe view..\n",
    "dump(data_sample_view, 'data_sample_view.joblib')"
   ]
  },
  {
   "cell_type": "code",
   "execution_count": 8,
   "metadata": {},
   "outputs": [
    {
     "data": {
      "text/plain": [
       "(1048575, 24)"
      ]
     },
     "execution_count": 8,
     "metadata": {},
     "output_type": "execute_result"
    }
   ],
   "source": [
    "dataset.shape"
   ]
  },
  {
   "cell_type": "code",
   "execution_count": 9,
   "metadata": {},
   "outputs": [],
   "source": [
    "#drop duplicates\n",
    "dataset.drop_duplicates(inplace=True)"
   ]
  },
  {
   "cell_type": "code",
   "execution_count": 10,
   "metadata": {},
   "outputs": [],
   "source": [
    "#drop null values\n",
    "dataset.dropna(inplace=True)"
   ]
  },
  {
   "cell_type": "code",
   "execution_count": 11,
   "metadata": {},
   "outputs": [
    {
     "data": {
      "text/plain": [
       "(1041265, 24)"
      ]
     },
     "execution_count": 11,
     "metadata": {},
     "output_type": "execute_result"
    }
   ],
   "source": [
    "dataset.shape"
   ]
  },
  {
   "cell_type": "code",
   "execution_count": 12,
   "metadata": {},
   "outputs": [
    {
     "data": {
      "text/plain": [
       "Area_Service                             0\n",
       "Hospital_County                          0\n",
       "Hospital_Id                              0\n",
       "Age                                      0\n",
       "Gender                                   0\n",
       "Cultural_group                           0\n",
       "ethnicity                                0\n",
       "Days_spend_hsptl                         0\n",
       "Admission_type                           0\n",
       "Home_or_self_care                        0\n",
       "ccs_diagnosis_code                       0\n",
       "ccs_procedure_code                       0\n",
       "apr_drg_description                      0\n",
       "Code_illness                             0\n",
       "Mortality_risk                           0\n",
       "Surg_Description                         0\n",
       "Weight_baby                              0\n",
       "Abortion                                 0\n",
       "Emergency_dept_yes_No                    0\n",
       "Tot_charg                                0\n",
       "Tot_cost                                 0\n",
       "ratio_of_total_costs_to_total_charges    0\n",
       "Result                                   0\n",
       "Payment_Typology                         0\n",
       "dtype: int64"
      ]
     },
     "execution_count": 12,
     "metadata": {},
     "output_type": "execute_result"
    }
   ],
   "source": [
    "dataset.isnull().sum()"
   ]
  },
  {
   "cell_type": "code",
   "execution_count": 13,
   "metadata": {},
   "outputs": [
    {
     "data": {
      "text/html": [
       "<div>\n",
       "<style scoped>\n",
       "    .dataframe tbody tr th:only-of-type {\n",
       "        vertical-align: middle;\n",
       "    }\n",
       "\n",
       "    .dataframe tbody tr th {\n",
       "        vertical-align: top;\n",
       "    }\n",
       "\n",
       "    .dataframe thead th {\n",
       "        text-align: right;\n",
       "    }\n",
       "</style>\n",
       "<table border=\"1\" class=\"dataframe\">\n",
       "  <thead>\n",
       "    <tr style=\"text-align: right;\">\n",
       "      <th></th>\n",
       "      <th>Hospital_Id</th>\n",
       "      <th>ccs_diagnosis_code</th>\n",
       "      <th>ccs_procedure_code</th>\n",
       "      <th>Code_illness</th>\n",
       "      <th>Mortality_risk</th>\n",
       "      <th>Weight_baby</th>\n",
       "      <th>Tot_charg</th>\n",
       "      <th>Tot_cost</th>\n",
       "      <th>ratio_of_total_costs_to_total_charges</th>\n",
       "      <th>Result</th>\n",
       "      <th>Payment_Typology</th>\n",
       "    </tr>\n",
       "  </thead>\n",
       "  <tbody>\n",
       "    <tr>\n",
       "      <th>count</th>\n",
       "      <td>1.041265e+06</td>\n",
       "      <td>1.041265e+06</td>\n",
       "      <td>1.041265e+06</td>\n",
       "      <td>1.041265e+06</td>\n",
       "      <td>1.041265e+06</td>\n",
       "      <td>1.041265e+06</td>\n",
       "      <td>1.041265e+06</td>\n",
       "      <td>1.041265e+06</td>\n",
       "      <td>1.041265e+06</td>\n",
       "      <td>1.041265e+06</td>\n",
       "      <td>1.041265e+06</td>\n",
       "    </tr>\n",
       "    <tr>\n",
       "      <th>mean</th>\n",
       "      <td>6.525299e+02</td>\n",
       "      <td>1.986232e+02</td>\n",
       "      <td>9.708783e+01</td>\n",
       "      <td>2.057127e+00</td>\n",
       "      <td>1.753033e+00</td>\n",
       "      <td>2.822095e+02</td>\n",
       "      <td>2.721891e+04</td>\n",
       "      <td>1.050903e+04</td>\n",
       "      <td>4.560897e-01</td>\n",
       "      <td>7.494355e-01</td>\n",
       "      <td>1.938392e+00</td>\n",
       "    </tr>\n",
       "    <tr>\n",
       "      <th>std</th>\n",
       "      <td>6.696444e+02</td>\n",
       "      <td>1.655839e+02</td>\n",
       "      <td>8.729973e+01</td>\n",
       "      <td>9.141524e-01</td>\n",
       "      <td>9.875512e-01</td>\n",
       "      <td>9.324650e+02</td>\n",
       "      <td>5.502059e+04</td>\n",
       "      <td>2.234352e+04</td>\n",
       "      <td>8.026395e-01</td>\n",
       "      <td>4.333383e-01</td>\n",
       "      <td>7.717183e-01</td>\n",
       "    </tr>\n",
       "    <tr>\n",
       "      <th>min</th>\n",
       "      <td>1.000000e+00</td>\n",
       "      <td>1.000000e+00</td>\n",
       "      <td>0.000000e+00</td>\n",
       "      <td>1.000000e+00</td>\n",
       "      <td>1.000000e+00</td>\n",
       "      <td>0.000000e+00</td>\n",
       "      <td>3.100000e-01</td>\n",
       "      <td>1.000000e-01</td>\n",
       "      <td>3.312909e-02</td>\n",
       "      <td>0.000000e+00</td>\n",
       "      <td>1.000000e+00</td>\n",
       "    </tr>\n",
       "    <tr>\n",
       "      <th>25%</th>\n",
       "      <td>2.130000e+02</td>\n",
       "      <td>1.080000e+02</td>\n",
       "      <td>0.000000e+00</td>\n",
       "      <td>1.000000e+00</td>\n",
       "      <td>1.000000e+00</td>\n",
       "      <td>0.000000e+00</td>\n",
       "      <td>7.480430e+03</td>\n",
       "      <td>3.264680e+03</td>\n",
       "      <td>3.133504e-01</td>\n",
       "      <td>0.000000e+00</td>\n",
       "      <td>1.000000e+00</td>\n",
       "    </tr>\n",
       "    <tr>\n",
       "      <th>50%</th>\n",
       "      <td>6.300000e+02</td>\n",
       "      <td>1.590000e+02</td>\n",
       "      <td>8.800000e+01</td>\n",
       "      <td>2.000000e+00</td>\n",
       "      <td>1.000000e+00</td>\n",
       "      <td>0.000000e+00</td>\n",
       "      <td>1.468769e+04</td>\n",
       "      <td>5.962550e+03</td>\n",
       "      <td>4.089940e-01</td>\n",
       "      <td>1.000000e+00</td>\n",
       "      <td>2.000000e+00</td>\n",
       "    </tr>\n",
       "    <tr>\n",
       "      <th>75%</th>\n",
       "      <td>9.770000e+02</td>\n",
       "      <td>2.180000e+02</td>\n",
       "      <td>1.730000e+02</td>\n",
       "      <td>3.000000e+00</td>\n",
       "      <td>3.000000e+00</td>\n",
       "      <td>0.000000e+00</td>\n",
       "      <td>2.928040e+04</td>\n",
       "      <td>1.138990e+04</td>\n",
       "      <td>5.186988e-01</td>\n",
       "      <td>1.000000e+00</td>\n",
       "      <td>3.000000e+00</td>\n",
       "    </tr>\n",
       "    <tr>\n",
       "      <th>max</th>\n",
       "      <td>9.250000e+03</td>\n",
       "      <td>6.700000e+02</td>\n",
       "      <td>2.310000e+02</td>\n",
       "      <td>4.000000e+00</td>\n",
       "      <td>4.000000e+00</td>\n",
       "      <td>9.000000e+03</td>\n",
       "      <td>6.196974e+06</td>\n",
       "      <td>2.562478e+06</td>\n",
       "      <td>1.575596e+02</td>\n",
       "      <td>1.000000e+00</td>\n",
       "      <td>5.000000e+00</td>\n",
       "    </tr>\n",
       "  </tbody>\n",
       "</table>\n",
       "</div>"
      ],
      "text/plain": [
       "        Hospital_Id  ccs_diagnosis_code  ccs_procedure_code  Code_illness  \\\n",
       "count  1.041265e+06        1.041265e+06        1.041265e+06  1.041265e+06   \n",
       "mean   6.525299e+02        1.986232e+02        9.708783e+01  2.057127e+00   \n",
       "std    6.696444e+02        1.655839e+02        8.729973e+01  9.141524e-01   \n",
       "min    1.000000e+00        1.000000e+00        0.000000e+00  1.000000e+00   \n",
       "25%    2.130000e+02        1.080000e+02        0.000000e+00  1.000000e+00   \n",
       "50%    6.300000e+02        1.590000e+02        8.800000e+01  2.000000e+00   \n",
       "75%    9.770000e+02        2.180000e+02        1.730000e+02  3.000000e+00   \n",
       "max    9.250000e+03        6.700000e+02        2.310000e+02  4.000000e+00   \n",
       "\n",
       "       Mortality_risk   Weight_baby     Tot_charg      Tot_cost  \\\n",
       "count    1.041265e+06  1.041265e+06  1.041265e+06  1.041265e+06   \n",
       "mean     1.753033e+00  2.822095e+02  2.721891e+04  1.050903e+04   \n",
       "std      9.875512e-01  9.324650e+02  5.502059e+04  2.234352e+04   \n",
       "min      1.000000e+00  0.000000e+00  3.100000e-01  1.000000e-01   \n",
       "25%      1.000000e+00  0.000000e+00  7.480430e+03  3.264680e+03   \n",
       "50%      1.000000e+00  0.000000e+00  1.468769e+04  5.962550e+03   \n",
       "75%      3.000000e+00  0.000000e+00  2.928040e+04  1.138990e+04   \n",
       "max      4.000000e+00  9.000000e+03  6.196974e+06  2.562478e+06   \n",
       "\n",
       "       ratio_of_total_costs_to_total_charges        Result  Payment_Typology  \n",
       "count                           1.041265e+06  1.041265e+06      1.041265e+06  \n",
       "mean                            4.560897e-01  7.494355e-01      1.938392e+00  \n",
       "std                             8.026395e-01  4.333383e-01      7.717183e-01  \n",
       "min                             3.312909e-02  0.000000e+00      1.000000e+00  \n",
       "25%                             3.133504e-01  0.000000e+00      1.000000e+00  \n",
       "50%                             4.089940e-01  1.000000e+00      2.000000e+00  \n",
       "75%                             5.186988e-01  1.000000e+00      3.000000e+00  \n",
       "max                             1.575596e+02  1.000000e+00      5.000000e+00  "
      ]
     },
     "execution_count": 13,
     "metadata": {},
     "output_type": "execute_result"
    }
   ],
   "source": [
    "#describe the dataset\n",
    "dataset.describe()"
   ]
  },
  {
   "cell_type": "code",
   "execution_count": 14,
   "metadata": {},
   "outputs": [
    {
     "name": "stdout",
     "output_type": "stream",
     "text": [
      "<class 'pandas.core.frame.DataFrame'>\n",
      "Int64Index: 1041265 entries, 0 to 1048574\n",
      "Data columns (total 24 columns):\n",
      " #   Column                                 Non-Null Count    Dtype  \n",
      "---  ------                                 --------------    -----  \n",
      " 0   Area_Service                           1041265 non-null  object \n",
      " 1   Hospital_County                        1041265 non-null  object \n",
      " 2   Hospital_Id                            1041265 non-null  float64\n",
      " 3   Age                                    1041265 non-null  object \n",
      " 4   Gender                                 1041265 non-null  object \n",
      " 5   Cultural_group                         1041265 non-null  object \n",
      " 6   ethnicity                              1041265 non-null  object \n",
      " 7   Days_spend_hsptl                       1041265 non-null  object \n",
      " 8   Admission_type                         1041265 non-null  object \n",
      " 9   Home_or_self_care                      1041265 non-null  object \n",
      " 10  ccs_diagnosis_code                     1041265 non-null  int64  \n",
      " 11  ccs_procedure_code                     1041265 non-null  int64  \n",
      " 12  apr_drg_description                    1041265 non-null  object \n",
      " 13  Code_illness                           1041265 non-null  int64  \n",
      " 14  Mortality_risk                         1041265 non-null  float64\n",
      " 15  Surg_Description                       1041265 non-null  object \n",
      " 16  Weight_baby                            1041265 non-null  int64  \n",
      " 17  Abortion                               1041265 non-null  object \n",
      " 18  Emergency_dept_yes_No                  1041265 non-null  object \n",
      " 19  Tot_charg                              1041265 non-null  float64\n",
      " 20  Tot_cost                               1041265 non-null  float64\n",
      " 21  ratio_of_total_costs_to_total_charges  1041265 non-null  float64\n",
      " 22  Result                                 1041265 non-null  int64  \n",
      " 23  Payment_Typology                       1041265 non-null  int64  \n",
      "dtypes: float64(5), int64(6), object(13)\n",
      "memory usage: 198.6+ MB\n"
     ]
    }
   ],
   "source": [
    "dataset.info()"
   ]
  },
  {
   "cell_type": "code",
   "execution_count": 15,
   "metadata": {},
   "outputs": [
    {
     "data": {
      "text/html": [
       "<div>\n",
       "<style scoped>\n",
       "    .dataframe tbody tr th:only-of-type {\n",
       "        vertical-align: middle;\n",
       "    }\n",
       "\n",
       "    .dataframe tbody tr th {\n",
       "        vertical-align: top;\n",
       "    }\n",
       "\n",
       "    .dataframe thead th {\n",
       "        text-align: right;\n",
       "    }\n",
       "</style>\n",
       "<table border=\"1\" class=\"dataframe\">\n",
       "  <thead>\n",
       "    <tr style=\"text-align: right;\">\n",
       "      <th></th>\n",
       "      <th>Area_Service</th>\n",
       "      <th>Hospital_County</th>\n",
       "      <th>Age</th>\n",
       "      <th>Gender</th>\n",
       "      <th>Cultural_group</th>\n",
       "      <th>ethnicity</th>\n",
       "      <th>Days_spend_hsptl</th>\n",
       "      <th>Admission_type</th>\n",
       "      <th>Home_or_self_care</th>\n",
       "      <th>apr_drg_description</th>\n",
       "      <th>Surg_Description</th>\n",
       "      <th>Abortion</th>\n",
       "      <th>Emergency_dept_yes_No</th>\n",
       "    </tr>\n",
       "  </thead>\n",
       "  <tbody>\n",
       "    <tr>\n",
       "      <th>0</th>\n",
       "      <td>Western NY</td>\n",
       "      <td>Allegany</td>\n",
       "      <td>30 to 49</td>\n",
       "      <td>F</td>\n",
       "      <td>White</td>\n",
       "      <td>Not Span/Hispanic</td>\n",
       "      <td>4</td>\n",
       "      <td>Elective</td>\n",
       "      <td>Home or Self Care</td>\n",
       "      <td>Other pneumonia</td>\n",
       "      <td>Medical</td>\n",
       "      <td>N</td>\n",
       "      <td>Y</td>\n",
       "    </tr>\n",
       "    <tr>\n",
       "      <th>1</th>\n",
       "      <td>Western NY</td>\n",
       "      <td>Allegany</td>\n",
       "      <td>70 or Older</td>\n",
       "      <td>F</td>\n",
       "      <td>White</td>\n",
       "      <td>Not Span/Hispanic</td>\n",
       "      <td>4</td>\n",
       "      <td>Urgent</td>\n",
       "      <td>Short-term Hospital</td>\n",
       "      <td>Cellulitis &amp; other skin infections</td>\n",
       "      <td>Medical</td>\n",
       "      <td>N</td>\n",
       "      <td>Y</td>\n",
       "    </tr>\n",
       "  </tbody>\n",
       "</table>\n",
       "</div>"
      ],
      "text/plain": [
       "  Area_Service Hospital_County          Age Gender Cultural_group  \\\n",
       "0   Western NY        Allegany     30 to 49      F          White   \n",
       "1   Western NY        Allegany  70 or Older      F          White   \n",
       "\n",
       "           ethnicity Days_spend_hsptl Admission_type    Home_or_self_care  \\\n",
       "0  Not Span/Hispanic                4       Elective    Home or Self Care   \n",
       "1  Not Span/Hispanic                4         Urgent  Short-term Hospital   \n",
       "\n",
       "                  apr_drg_description Surg_Description Abortion  \\\n",
       "0                     Other pneumonia          Medical        N   \n",
       "1  Cellulitis & other skin infections          Medical        N   \n",
       "\n",
       "  Emergency_dept_yes_No  \n",
       "0                     Y  \n",
       "1                     Y  "
      ]
     },
     "execution_count": 15,
     "metadata": {},
     "output_type": "execute_result"
    }
   ],
   "source": [
    "dataset.select_dtypes(include=['object']).head(2)"
   ]
  },
  {
   "cell_type": "markdown",
   "metadata": {},
   "source": [
    "### EDA"
   ]
  },
  {
   "cell_type": "code",
   "execution_count": 16,
   "metadata": {},
   "outputs": [
    {
     "data": {
      "text/plain": [
       "<AxesSubplot:xlabel='Area_Service', ylabel='count'>"
      ]
     },
     "execution_count": 16,
     "metadata": {},
     "output_type": "execute_result"
    },
    {
     "data": {
      "image/png": "[encoded data removed]",
      "text/plain": [
       "<Figure size 720x360 with 1 Axes>"
      ]
     },
     "metadata": {
      "needs_background": "light"
     },
     "output_type": "display_data"
    }
   ],
   "source": [
    "plt.figure(figsize=(10,5))\n",
    "sns.countplot(dataset['Area_Service'])"
   ]
  },
  {
   "cell_type": "code",
   "execution_count": 17,
   "metadata": {},
   "outputs": [
    {
     "data": {
      "text/plain": [
       "51"
      ]
     },
     "execution_count": 17,
     "metadata": {},
     "output_type": "execute_result"
    }
   ],
   "source": [
    "len(dataset['Hospital_County'].unique())"
   ]
  },
  {
   "cell_type": "code",
   "execution_count": 18,
   "metadata": {},
   "outputs": [
    {
     "data": {
      "text/plain": [
       "<AxesSubplot:xlabel='Age', ylabel='count'>"
      ]
     },
     "execution_count": 18,
     "metadata": {},
     "output_type": "execute_result"
    },
    {
     "data": {
      "image/png": "[encoded data removed]",
      "text/plain": [
       "<Figure size 432x288 with 1 Axes>"
      ]
     },
     "metadata": {
      "needs_background": "light"
     },
     "output_type": "display_data"
    }
   ],
   "source": [
    "len(dataset['Age'].unique())\n",
    "dataset['Age'].value_counts()\n",
    "sns.countplot(dataset['Age'])"
   ]
  },
  {
   "cell_type": "code",
   "execution_count": 19,
   "metadata": {},
   "outputs": [
    {
     "data": {
      "text/plain": [
       "<AxesSubplot:xlabel='Gender', ylabel='count'>"
      ]
     },
     "execution_count": 19,
     "metadata": {},
     "output_type": "execute_result"
    },
    {
     "data": {
      "image/png": "[encoded data removed]",
      "text/plain": [
       "<Figure size 432x288 with 1 Axes>"
      ]
     },
     "metadata": {
      "needs_background": "light"
     },
     "output_type": "display_data"
    }
   ],
   "source": [
    "len(dataset['Gender'].unique())\n",
    "dataset['Gender'].value_counts()\n",
    "sns.countplot(dataset['Gender'])"
   ]
  },
  {
   "cell_type": "code",
   "execution_count": 20,
   "metadata": {},
   "outputs": [
    {
     "data": {
      "text/plain": [
       "<AxesSubplot:xlabel='Cultural_group', ylabel='count'>"
      ]
     },
     "execution_count": 20,
     "metadata": {},
     "output_type": "execute_result"
    },
    {
     "data": {
      "image/png": "[encoded data removed]",
      "text/plain": [
       "<Figure size 720x360 with 1 Axes>"
      ]
     },
     "metadata": {
      "needs_background": "light"
     },
     "output_type": "display_data"
    }
   ],
   "source": [
    "plt.figure(figsize=(10,5))\n",
    "len(dataset['Cultural_group'].unique())\n",
    "dataset['Cultural_group'].value_counts()\n",
    "sns.countplot(dataset['Cultural_group'])"
   ]
  },
  {
   "cell_type": "code",
   "execution_count": 21,
   "metadata": {},
   "outputs": [
    {
     "data": {
      "text/plain": [
       "<AxesSubplot:xlabel='ethnicity', ylabel='count'>"
      ]
     },
     "execution_count": 21,
     "metadata": {},
     "output_type": "execute_result"
    },
    {
     "data": {
      "image/png": "[encoded data removed]",
      "text/plain": [
       "<Figure size 432x288 with 1 Axes>"
      ]
     },
     "metadata": {
      "needs_background": "light"
     },
     "output_type": "display_data"
    }
   ],
   "source": [
    "len(dataset['ethnicity'].unique())\n",
    "dataset['ethnicity'].value_counts()\n",
    "sns.countplot(dataset['ethnicity'])"
   ]
  },
  {
   "cell_type": "code",
   "execution_count": 22,
   "metadata": {},
   "outputs": [
    {
     "data": {
      "text/plain": [
       "<AxesSubplot:xlabel='Admission_type', ylabel='count'>"
      ]
     },
     "execution_count": 22,
     "metadata": {},
     "output_type": "execute_result"
    },
    {
     "data": {
      "image/png": "[encoded data removed]",
      "text/plain": [
       "<Figure size 432x288 with 1 Axes>"
      ]
     },
     "metadata": {
      "needs_background": "light"
     },
     "output_type": "display_data"
    }
   ],
   "source": [
    "len(dataset['Admission_type'].unique())\n",
    "dataset['Admission_type'].value_counts()\n",
    "sns.countplot(dataset['Admission_type'])"
   ]
  },
  {
   "cell_type": "code",
   "execution_count": 23,
   "metadata": {},
   "outputs": [
    {
     "data": {
      "text/plain": [
       "19"
      ]
     },
     "execution_count": 23,
     "metadata": {},
     "output_type": "execute_result"
    }
   ],
   "source": [
    "len(dataset['Home_or_self_care'].unique())"
   ]
  },
  {
   "cell_type": "code",
   "execution_count": 24,
   "metadata": {},
   "outputs": [
    {
     "data": {
      "text/plain": [
       "228"
      ]
     },
     "execution_count": 24,
     "metadata": {},
     "output_type": "execute_result"
    }
   ],
   "source": [
    "len(dataset['ccs_procedure_code'].unique())"
   ]
  },
  {
   "cell_type": "code",
   "execution_count": 25,
   "metadata": {},
   "outputs": [
    {
     "data": {
      "text/plain": [
       "<AxesSubplot:xlabel='Code_illness', ylabel='count'>"
      ]
     },
     "execution_count": 25,
     "metadata": {},
     "output_type": "execute_result"
    },
    {
     "data": {
      "image/png": "[encoded data removed]",
      "text/plain": [
       "<Figure size 432x288 with 1 Axes>"
      ]
     },
     "metadata": {
      "needs_background": "light"
     },
     "output_type": "display_data"
    }
   ],
   "source": [
    "len(dataset['Code_illness'].unique())\n",
    "dataset['Code_illness'].value_counts()\n",
    "sns.countplot(dataset['Code_illness'])"
   ]
  },
  {
   "cell_type": "code",
   "execution_count": 26,
   "metadata": {},
   "outputs": [
    {
     "data": {
      "text/plain": [
       "<AxesSubplot:xlabel='Mortality_risk', ylabel='count'>"
      ]
     },
     "execution_count": 26,
     "metadata": {},
     "output_type": "execute_result"
    },
    {
     "data": {
      "image/png": "[encoded data removed]",
      "text/plain": [
       "<Figure size 432x288 with 1 Axes>"
      ]
     },
     "metadata": {
      "needs_background": "light"
     },
     "output_type": "display_data"
    }
   ],
   "source": [
    "len(dataset['Mortality_risk'].unique())\n",
    "dataset['Mortality_risk'].value_counts()\n",
    "sns.countplot(dataset['Mortality_risk'])"
   ]
  },
  {
   "cell_type": "code",
   "execution_count": 27,
   "metadata": {},
   "outputs": [
    {
     "data": {
      "text/plain": [
       "<AxesSubplot:xlabel='Surg_Description', ylabel='count'>"
      ]
     },
     "execution_count": 27,
     "metadata": {},
     "output_type": "execute_result"
    },
    {
     "data": {
      "image/png": "[encoded data removed]",
      "text/plain": [
       "<Figure size 432x288 with 1 Axes>"
      ]
     },
     "metadata": {
      "needs_background": "light"
     },
     "output_type": "display_data"
    }
   ],
   "source": [
    "len(dataset['Surg_Description'].unique())\n",
    "dataset['Surg_Description'].value_counts()\n",
    "sns.countplot(dataset['Surg_Description'])"
   ]
  },
  {
   "cell_type": "code",
   "execution_count": 28,
   "metadata": {},
   "outputs": [
    {
     "data": {
      "text/plain": [
       "258"
      ]
     },
     "execution_count": 28,
     "metadata": {},
     "output_type": "execute_result"
    }
   ],
   "source": [
    "len(dataset['ccs_diagnosis_code'].unique())"
   ]
  },
  {
   "cell_type": "code",
   "execution_count": 29,
   "metadata": {},
   "outputs": [
    {
     "data": {
      "text/plain": [
       "<AxesSubplot:xlabel='Result', ylabel='count'>"
      ]
     },
     "execution_count": 29,
     "metadata": {},
     "output_type": "execute_result"
    },
    {
     "data": {
      "image/png": "[encoded data removed]",
      "text/plain": [
       "<Figure size 432x288 with 1 Axes>"
      ]
     },
     "metadata": {
      "needs_background": "light"
     },
     "output_type": "display_data"
    }
   ],
   "source": [
    "len(dataset['Result'].unique())\n",
    "dataset['Result'].value_counts()\n",
    "sns.countplot(dataset['Result'])"
   ]
  },
  {
   "cell_type": "code",
   "execution_count": 30,
   "metadata": {},
   "outputs": [
    {
     "data": {
      "text/plain": [
       "<AxesSubplot:xlabel='Payment_Typology', ylabel='count'>"
      ]
     },
     "execution_count": 30,
     "metadata": {},
     "output_type": "execute_result"
    },
    {
     "data": {
      "image/png": "[encoded data removed]",
      "text/plain": [
       "<Figure size 432x288 with 1 Axes>"
      ]
     },
     "metadata": {
      "needs_background": "light"
     },
     "output_type": "display_data"
    }
   ],
   "source": [
    "len(dataset['Payment_Typology'].unique())\n",
    "dataset['Payment_Typology'].value_counts()\n",
    "sns.countplot(dataset['Payment_Typology'])"
   ]
  },
  {
   "cell_type": "markdown",
   "metadata": {},
   "source": [
    "### Let us check for outliers"
   ]
  },
  {
   "cell_type": "code",
   "execution_count": 31,
   "metadata": {},
   "outputs": [
    {
     "data": {
      "text/plain": [
       "<AxesSubplot:>"
      ]
     },
     "execution_count": 31,
     "metadata": {},
     "output_type": "execute_result"
    },
    {
     "data": {
      "image/png": "[encoded data removed]",
      "text/plain": [
       "<Figure size 432x288 with 1 Axes>"
      ]
     },
     "metadata": {
      "needs_background": "light"
     },
     "output_type": "display_data"
    }
   ],
   "source": [
    "dataset.boxplot(column='ccs_procedure_code')"
   ]
  },
  {
   "cell_type": "code",
   "execution_count": 32,
   "metadata": {},
   "outputs": [
    {
     "data": {
      "text/plain": [
       "<AxesSubplot:xlabel='ccs_procedure_code', ylabel='Density'>"
      ]
     },
     "execution_count": 32,
     "metadata": {},
     "output_type": "execute_result"
    },
    {
     "data": {
      "image/png": "[encoded data removed]",
      "text/plain": [
       "<Figure size 432x288 with 1 Axes>"
      ]
     },
     "metadata": {
      "needs_background": "light"
     },
     "output_type": "display_data"
    }
   ],
   "source": [
    "sns.distplot(dataset.ccs_procedure_code)"
   ]
  },
  {
   "cell_type": "code",
   "execution_count": 33,
   "metadata": {},
   "outputs": [
    {
     "data": {
      "text/plain": [
       "<AxesSubplot:xlabel='ccs_diagnosis_code', ylabel='Density'>"
      ]
     },
     "execution_count": 33,
     "metadata": {},
     "output_type": "execute_result"
    },
    {
     "data": {
      "image/png": "[encoded data removed]",
      "text/plain": [
       "<Figure size 432x288 with 1 Axes>"
      ]
     },
     "metadata": {
      "needs_background": "light"
     },
     "output_type": "display_data"
    }
   ],
   "source": [
    "sns.distplot(dataset.ccs_diagnosis_code)"
   ]
  },
  {
   "cell_type": "code",
   "execution_count": 34,
   "metadata": {},
   "outputs": [
    {
     "data": {
      "text/plain": [
       "<AxesSubplot:>"
      ]
     },
     "execution_count": 34,
     "metadata": {},
     "output_type": "execute_result"
    },
    {
     "data": {
      "image/png": "[encoded data removed]",
      "text/plain": [
       "<Figure size 432x288 with 1 Axes>"
      ]
     },
     "metadata": {
      "needs_background": "light"
     },
     "output_type": "display_data"
    }
   ],
   "source": [
    "dataset.boxplot(column='ccs_diagnosis_code')"
   ]
  },
  {
   "cell_type": "code",
   "execution_count": 35,
   "metadata": {},
   "outputs": [
    {
     "data": {
      "text/plain": [
       "<AxesSubplot:>"
      ]
     },
     "execution_count": 35,
     "metadata": {},
     "output_type": "execute_result"
    },
    {
     "data": {
      "image/png": "[encoded data removed]",
      "text/plain": [
       "<Figure size 432x288 with 1 Axes>"
      ]
     },
     "metadata": {
      "needs_background": "light"
     },
     "output_type": "display_data"
    }
   ],
   "source": [
    "dataset.boxplot(column='Tot_charg')"
   ]
  },
  {
   "cell_type": "code",
   "execution_count": 36,
   "metadata": {},
   "outputs": [
    {
     "data": {
      "text/plain": [
       "<AxesSubplot:xlabel='Tot_charg', ylabel='Density'>"
      ]
     },
     "execution_count": 36,
     "metadata": {},
     "output_type": "execute_result"
    },
    {
     "data": {
      "image/png": "[encoded data removed]",
      "text/plain": [
       "<Figure size 432x288 with 1 Axes>"
      ]
     },
     "metadata": {
      "needs_background": "light"
     },
     "output_type": "display_data"
    }
   ],
   "source": [
    "sns.distplot(dataset.Tot_charg)"
   ]
  },
  {
   "cell_type": "code",
   "execution_count": 37,
   "metadata": {},
   "outputs": [
    {
     "data": {
      "text/plain": [
       "<AxesSubplot:>"
      ]
     },
     "execution_count": 37,
     "metadata": {},
     "output_type": "execute_result"
    },
    {
     "data": {
      "image/png": "[encoded data removed]",
      "text/plain": [
       "<Figure size 432x288 with 1 Axes>"
      ]
     },
     "metadata": {
      "needs_background": "light"
     },
     "output_type": "display_data"
    }
   ],
   "source": [
    "dataset.boxplot(column='Tot_cost')"
   ]
  },
  {
   "cell_type": "code",
   "execution_count": 38,
   "metadata": {},
   "outputs": [
    {
     "data": {
      "text/plain": [
       "<AxesSubplot:xlabel='Tot_cost', ylabel='Density'>"
      ]
     },
     "execution_count": 38,
     "metadata": {},
     "output_type": "execute_result"
    },
    {
     "data": {
      "image/png": "[encoded data removed]",
      "text/plain": [
       "<Figure size 432x288 with 1 Axes>"
      ]
     },
     "metadata": {
      "needs_background": "light"
     },
     "output_type": "display_data"
    }
   ],
   "source": [
    "sns.distplot(dataset.Tot_cost)"
   ]
  },
  {
   "cell_type": "code",
   "execution_count": 39,
   "metadata": {},
   "outputs": [
    {
     "data": {
      "text/plain": [
       "<AxesSubplot:>"
      ]
     },
     "execution_count": 39,
     "metadata": {},
     "output_type": "execute_result"
    },
    {
     "data": {
      "image/png": "[encoded data removed]",
      "text/plain": [
       "<Figure size 432x288 with 1 Axes>"
      ]
     },
     "metadata": {
      "needs_background": "light"
     },
     "output_type": "display_data"
    }
   ],
   "source": [
    "dataset.boxplot(column='ratio_of_total_costs_to_total_charges')"
   ]
  },
  {
   "cell_type": "code",
   "execution_count": 40,
   "metadata": {},
   "outputs": [
    {
     "data": {
      "text/plain": [
       "<AxesSubplot:xlabel='ratio_of_total_costs_to_total_charges', ylabel='Density'>"
      ]
     },
     "execution_count": 40,
     "metadata": {},
     "output_type": "execute_result"
    },
    {
     "data": {
      "image/png": "[encoded data removed]",
      "text/plain": [
       "<Figure size 432x288 with 1 Axes>"
      ]
     },
     "metadata": {
      "needs_background": "light"
     },
     "output_type": "display_data"
    }
   ],
   "source": [
    "sns.distplot(dataset.ratio_of_total_costs_to_total_charges)"
   ]
  },
  {
   "cell_type": "code",
   "execution_count": 41,
   "metadata": {},
   "outputs": [
    {
     "data": {
      "text/plain": [
       "Hospital_Id                               6.549897\n",
       "ccs_diagnosis_code                        1.945264\n",
       "ccs_procedure_code                        0.221920\n",
       "Code_illness                              0.442781\n",
       "Mortality_risk                            0.866295\n",
       "Weight_baby                               3.108478\n",
       "Tot_charg                                18.068372\n",
       "Tot_cost                                 27.587478\n",
       "ratio_of_total_costs_to_total_charges    96.372422\n",
       "Result                                   -1.151230\n",
       "Payment_Typology                          0.153149\n",
       "dtype: float64"
      ]
     },
     "execution_count": 41,
     "metadata": {},
     "output_type": "execute_result"
    }
   ],
   "source": [
    "dataset.skew()"
   ]
  },
  {
   "cell_type": "markdown",
   "metadata": {},
   "source": [
    "### Check for Correlation between Features"
   ]
  },
  {
   "cell_type": "code",
   "execution_count": 42,
   "metadata": {},
   "outputs": [
    {
     "data": {
      "text/html": [
       "<div>\n",
       "<style scoped>\n",
       "    .dataframe tbody tr th:only-of-type {\n",
       "        vertical-align: middle;\n",
       "    }\n",
       "\n",
       "    .dataframe tbody tr th {\n",
       "        vertical-align: top;\n",
       "    }\n",
       "\n",
       "    .dataframe thead th {\n",
       "        text-align: right;\n",
       "    }\n",
       "</style>\n",
       "<table border=\"1\" class=\"dataframe\">\n",
       "  <thead>\n",
       "    <tr style=\"text-align: right;\">\n",
       "      <th></th>\n",
       "      <th>Area_Service</th>\n",
       "      <th>Hospital_County</th>\n",
       "      <th>Hospital_Id</th>\n",
       "      <th>Age</th>\n",
       "      <th>Gender</th>\n",
       "      <th>Cultural_group</th>\n",
       "      <th>ethnicity</th>\n",
       "      <th>Days_spend_hsptl</th>\n",
       "      <th>Admission_type</th>\n",
       "      <th>Home_or_self_care</th>\n",
       "      <th>ccs_diagnosis_code</th>\n",
       "      <th>ccs_procedure_code</th>\n",
       "      <th>apr_drg_description</th>\n",
       "      <th>Code_illness</th>\n",
       "      <th>Mortality_risk</th>\n",
       "      <th>Surg_Description</th>\n",
       "      <th>Weight_baby</th>\n",
       "      <th>Abortion</th>\n",
       "      <th>Emergency_dept_yes_No</th>\n",
       "      <th>Tot_charg</th>\n",
       "      <th>Tot_cost</th>\n",
       "      <th>ratio_of_total_costs_to_total_charges</th>\n",
       "      <th>Result</th>\n",
       "      <th>Payment_Typology</th>\n",
       "    </tr>\n",
       "  </thead>\n",
       "  <tbody>\n",
       "    <tr>\n",
       "      <th>0</th>\n",
       "      <td>Western NY</td>\n",
       "      <td>Allegany</td>\n",
       "      <td>37.0</td>\n",
       "      <td>30 to 49</td>\n",
       "      <td>F</td>\n",
       "      <td>White</td>\n",
       "      <td>Not Span/Hispanic</td>\n",
       "      <td>4</td>\n",
       "      <td>Elective</td>\n",
       "      <td>Home or Self Care</td>\n",
       "      <td>122</td>\n",
       "      <td>0</td>\n",
       "      <td>Other pneumonia</td>\n",
       "      <td>1</td>\n",
       "      <td>1.0</td>\n",
       "      <td>Medical</td>\n",
       "      <td>0</td>\n",
       "      <td>N</td>\n",
       "      <td>Y</td>\n",
       "      <td>5511.95</td>\n",
       "      <td>5582.49</td>\n",
       "      <td>1.012798</td>\n",
       "      <td>1</td>\n",
       "      <td>1</td>\n",
       "    </tr>\n",
       "    <tr>\n",
       "      <th>1</th>\n",
       "      <td>Western NY</td>\n",
       "      <td>Allegany</td>\n",
       "      <td>37.0</td>\n",
       "      <td>70 or Older</td>\n",
       "      <td>F</td>\n",
       "      <td>White</td>\n",
       "      <td>Not Span/Hispanic</td>\n",
       "      <td>4</td>\n",
       "      <td>Urgent</td>\n",
       "      <td>Short-term Hospital</td>\n",
       "      <td>197</td>\n",
       "      <td>0</td>\n",
       "      <td>Cellulitis &amp; other skin infections</td>\n",
       "      <td>3</td>\n",
       "      <td>2.0</td>\n",
       "      <td>Medical</td>\n",
       "      <td>0</td>\n",
       "      <td>N</td>\n",
       "      <td>Y</td>\n",
       "      <td>4783.20</td>\n",
       "      <td>5162.82</td>\n",
       "      <td>1.079365</td>\n",
       "      <td>1</td>\n",
       "      <td>1</td>\n",
       "    </tr>\n",
       "    <tr>\n",
       "      <th>2</th>\n",
       "      <td>Western NY</td>\n",
       "      <td>Allegany</td>\n",
       "      <td>37.0</td>\n",
       "      <td>30 to 49</td>\n",
       "      <td>F</td>\n",
       "      <td>White</td>\n",
       "      <td>Not Span/Hispanic</td>\n",
       "      <td>3</td>\n",
       "      <td>Urgent</td>\n",
       "      <td>Home or Self Care</td>\n",
       "      <td>122</td>\n",
       "      <td>0</td>\n",
       "      <td>Other pneumonia</td>\n",
       "      <td>1</td>\n",
       "      <td>1.0</td>\n",
       "      <td>Medical</td>\n",
       "      <td>0</td>\n",
       "      <td>N</td>\n",
       "      <td>Y</td>\n",
       "      <td>3829.15</td>\n",
       "      <td>4056.52</td>\n",
       "      <td>1.059379</td>\n",
       "      <td>1</td>\n",
       "      <td>1</td>\n",
       "    </tr>\n",
       "    <tr>\n",
       "      <th>3</th>\n",
       "      <td>Western NY</td>\n",
       "      <td>Allegany</td>\n",
       "      <td>37.0</td>\n",
       "      <td>0 to 17</td>\n",
       "      <td>F</td>\n",
       "      <td>White</td>\n",
       "      <td>Not Span/Hispanic</td>\n",
       "      <td>1</td>\n",
       "      <td>Urgent</td>\n",
       "      <td>Home or Self Care</td>\n",
       "      <td>122</td>\n",
       "      <td>0</td>\n",
       "      <td>Other pneumonia</td>\n",
       "      <td>1</td>\n",
       "      <td>1.0</td>\n",
       "      <td>Medical</td>\n",
       "      <td>0</td>\n",
       "      <td>N</td>\n",
       "      <td>Y</td>\n",
       "      <td>1108.20</td>\n",
       "      <td>1644.75</td>\n",
       "      <td>1.484167</td>\n",
       "      <td>0</td>\n",
       "      <td>1</td>\n",
       "    </tr>\n",
       "    <tr>\n",
       "      <th>4</th>\n",
       "      <td>Western NY</td>\n",
       "      <td>Allegany</td>\n",
       "      <td>37.0</td>\n",
       "      <td>70 or Older</td>\n",
       "      <td>F</td>\n",
       "      <td>White</td>\n",
       "      <td>Not Span/Hispanic</td>\n",
       "      <td>3</td>\n",
       "      <td>Elective</td>\n",
       "      <td>Home or Self Care</td>\n",
       "      <td>122</td>\n",
       "      <td>0</td>\n",
       "      <td>Other pneumonia</td>\n",
       "      <td>2</td>\n",
       "      <td>3.0</td>\n",
       "      <td>Medical</td>\n",
       "      <td>0</td>\n",
       "      <td>N</td>\n",
       "      <td>Y</td>\n",
       "      <td>3418.18</td>\n",
       "      <td>3370.87</td>\n",
       "      <td>0.986161</td>\n",
       "      <td>1</td>\n",
       "      <td>1</td>\n",
       "    </tr>\n",
       "  </tbody>\n",
       "</table>\n",
       "</div>"
      ],
      "text/plain": [
       "  Area_Service Hospital_County  Hospital_Id          Age Gender  \\\n",
       "0   Western NY        Allegany         37.0     30 to 49      F   \n",
       "1   Western NY        Allegany         37.0  70 or Older      F   \n",
       "2   Western NY        Allegany         37.0     30 to 49      F   \n",
       "3   Western NY        Allegany         37.0      0 to 17      F   \n",
       "4   Western NY        Allegany         37.0  70 or Older      F   \n",
       "\n",
       "  Cultural_group          ethnicity Days_spend_hsptl Admission_type  \\\n",
       "0          White  Not Span/Hispanic                4       Elective   \n",
       "1          White  Not Span/Hispanic                4         Urgent   \n",
       "2          White  Not Span/Hispanic                3         Urgent   \n",
       "3          White  Not Span/Hispanic                1         Urgent   \n",
       "4          White  Not Span/Hispanic                3       Elective   \n",
       "\n",
       "     Home_or_self_care  ccs_diagnosis_code  ccs_procedure_code  \\\n",
       "0    Home or Self Care                 122                   0   \n",
       "1  Short-term Hospital                 197                   0   \n",
       "2    Home or Self Care                 122                   0   \n",
       "3    Home or Self Care                 122                   0   \n",
       "4    Home or Self Care                 122                   0   \n",
       "\n",
       "                  apr_drg_description  Code_illness  Mortality_risk  \\\n",
       "0                     Other pneumonia             1             1.0   \n",
       "1  Cellulitis & other skin infections             3             2.0   \n",
       "2                     Other pneumonia             1             1.0   \n",
       "3                     Other pneumonia             1             1.0   \n",
       "4                     Other pneumonia             2             3.0   \n",
       "\n",
       "  Surg_Description  Weight_baby Abortion Emergency_dept_yes_No  Tot_charg  \\\n",
       "0          Medical            0        N                     Y    5511.95   \n",
       "1          Medical            0        N                     Y    4783.20   \n",
       "2          Medical            0        N                     Y    3829.15   \n",
       "3          Medical            0        N                     Y    1108.20   \n",
       "4          Medical            0        N                     Y    3418.18   \n",
       "\n",
       "   Tot_cost  ratio_of_total_costs_to_total_charges  Result  Payment_Typology  \n",
       "0   5582.49                               1.012798       1                 1  \n",
       "1   5162.82                               1.079365       1                 1  \n",
       "2   4056.52                               1.059379       1                 1  \n",
       "3   1644.75                               1.484167       0                 1  \n",
       "4   3370.87                               0.986161       1                 1  "
      ]
     },
     "execution_count": 42,
     "metadata": {},
     "output_type": "execute_result"
    }
   ],
   "source": [
    "dataset.head()"
   ]
  },
  {
   "cell_type": "code",
   "execution_count": 43,
   "metadata": {},
   "outputs": [
    {
     "data": {
      "text/html": [
       "<div>\n",
       "<style scoped>\n",
       "    .dataframe tbody tr th:only-of-type {\n",
       "        vertical-align: middle;\n",
       "    }\n",
       "\n",
       "    .dataframe tbody tr th {\n",
       "        vertical-align: top;\n",
       "    }\n",
       "\n",
       "    .dataframe thead th {\n",
       "        text-align: right;\n",
       "    }\n",
       "</style>\n",
       "<table border=\"1\" class=\"dataframe\">\n",
       "  <thead>\n",
       "    <tr style=\"text-align: right;\">\n",
       "      <th></th>\n",
       "      <th>Hospital_Id</th>\n",
       "      <th>ccs_diagnosis_code</th>\n",
       "      <th>ccs_procedure_code</th>\n",
       "      <th>Code_illness</th>\n",
       "      <th>Mortality_risk</th>\n",
       "      <th>Weight_baby</th>\n",
       "      <th>Tot_charg</th>\n",
       "      <th>Tot_cost</th>\n",
       "      <th>ratio_of_total_costs_to_total_charges</th>\n",
       "      <th>Result</th>\n",
       "      <th>Payment_Typology</th>\n",
       "    </tr>\n",
       "  </thead>\n",
       "  <tbody>\n",
       "    <tr>\n",
       "      <th>Hospital_Id</th>\n",
       "      <td>1.000000</td>\n",
       "      <td>0.052711</td>\n",
       "      <td>0.019366</td>\n",
       "      <td>-0.047558</td>\n",
       "      <td>-0.041745</td>\n",
       "      <td>0.039582</td>\n",
       "      <td>0.021072</td>\n",
       "      <td>0.003542</td>\n",
       "      <td>0.004918</td>\n",
       "      <td>-0.001362</td>\n",
       "      <td>0.149703</td>\n",
       "    </tr>\n",
       "    <tr>\n",
       "      <th>ccs_diagnosis_code</th>\n",
       "      <td>0.052711</td>\n",
       "      <td>1.000000</td>\n",
       "      <td>0.051307</td>\n",
       "      <td>-0.181906</td>\n",
       "      <td>-0.269338</td>\n",
       "      <td>0.034817</td>\n",
       "      <td>-0.076322</td>\n",
       "      <td>-0.041976</td>\n",
       "      <td>0.030690</td>\n",
       "      <td>0.000317</td>\n",
       "      <td>-0.075115</td>\n",
       "    </tr>\n",
       "    <tr>\n",
       "      <th>ccs_procedure_code</th>\n",
       "      <td>0.019366</td>\n",
       "      <td>0.051307</td>\n",
       "      <td>1.000000</td>\n",
       "      <td>0.013522</td>\n",
       "      <td>-0.035020</td>\n",
       "      <td>0.117272</td>\n",
       "      <td>0.025710</td>\n",
       "      <td>0.034001</td>\n",
       "      <td>0.017527</td>\n",
       "      <td>-0.000441</td>\n",
       "      <td>-0.050949</td>\n",
       "    </tr>\n",
       "    <tr>\n",
       "      <th>Code_illness</th>\n",
       "      <td>-0.047558</td>\n",
       "      <td>-0.181906</td>\n",
       "      <td>0.013522</td>\n",
       "      <td>1.000000</td>\n",
       "      <td>0.635410</td>\n",
       "      <td>-0.262322</td>\n",
       "      <td>0.290234</td>\n",
       "      <td>0.246470</td>\n",
       "      <td>-0.033883</td>\n",
       "      <td>0.002065</td>\n",
       "      <td>0.155879</td>\n",
       "    </tr>\n",
       "    <tr>\n",
       "      <th>Mortality_risk</th>\n",
       "      <td>-0.041745</td>\n",
       "      <td>-0.269338</td>\n",
       "      <td>-0.035020</td>\n",
       "      <td>0.635410</td>\n",
       "      <td>1.000000</td>\n",
       "      <td>-0.217464</td>\n",
       "      <td>0.221497</td>\n",
       "      <td>0.181717</td>\n",
       "      <td>-0.036955</td>\n",
       "      <td>0.002483</td>\n",
       "      <td>0.182199</td>\n",
       "    </tr>\n",
       "    <tr>\n",
       "      <th>Weight_baby</th>\n",
       "      <td>0.039582</td>\n",
       "      <td>0.034817</td>\n",
       "      <td>0.117272</td>\n",
       "      <td>-0.262322</td>\n",
       "      <td>-0.217464</td>\n",
       "      <td>1.000000</td>\n",
       "      <td>-0.099443</td>\n",
       "      <td>-0.097408</td>\n",
       "      <td>0.018374</td>\n",
       "      <td>-0.003758</td>\n",
       "      <td>-0.120175</td>\n",
       "    </tr>\n",
       "    <tr>\n",
       "      <th>Tot_charg</th>\n",
       "      <td>0.021072</td>\n",
       "      <td>-0.076322</td>\n",
       "      <td>0.025710</td>\n",
       "      <td>0.290234</td>\n",
       "      <td>0.221497</td>\n",
       "      <td>-0.099443</td>\n",
       "      <td>1.000000</td>\n",
       "      <td>0.723527</td>\n",
       "      <td>-0.043142</td>\n",
       "      <td>-0.001055</td>\n",
       "      <td>0.080635</td>\n",
       "    </tr>\n",
       "    <tr>\n",
       "      <th>Tot_cost</th>\n",
       "      <td>0.003542</td>\n",
       "      <td>-0.041976</td>\n",
       "      <td>0.034001</td>\n",
       "      <td>0.246470</td>\n",
       "      <td>0.181717</td>\n",
       "      <td>-0.097408</td>\n",
       "      <td>0.723527</td>\n",
       "      <td>1.000000</td>\n",
       "      <td>0.421115</td>\n",
       "      <td>-0.001400</td>\n",
       "      <td>0.056357</td>\n",
       "    </tr>\n",
       "    <tr>\n",
       "      <th>ratio_of_total_costs_to_total_charges</th>\n",
       "      <td>0.004918</td>\n",
       "      <td>0.030690</td>\n",
       "      <td>0.017527</td>\n",
       "      <td>-0.033883</td>\n",
       "      <td>-0.036955</td>\n",
       "      <td>0.018374</td>\n",
       "      <td>-0.043142</td>\n",
       "      <td>0.421115</td>\n",
       "      <td>1.000000</td>\n",
       "      <td>0.000465</td>\n",
       "      <td>-0.034675</td>\n",
       "    </tr>\n",
       "    <tr>\n",
       "      <th>Result</th>\n",
       "      <td>-0.001362</td>\n",
       "      <td>0.000317</td>\n",
       "      <td>-0.000441</td>\n",
       "      <td>0.002065</td>\n",
       "      <td>0.002483</td>\n",
       "      <td>-0.003758</td>\n",
       "      <td>-0.001055</td>\n",
       "      <td>-0.001400</td>\n",
       "      <td>0.000465</td>\n",
       "      <td>1.000000</td>\n",
       "      <td>0.001351</td>\n",
       "    </tr>\n",
       "    <tr>\n",
       "      <th>Payment_Typology</th>\n",
       "      <td>0.149703</td>\n",
       "      <td>-0.075115</td>\n",
       "      <td>-0.050949</td>\n",
       "      <td>0.155879</td>\n",
       "      <td>0.182199</td>\n",
       "      <td>-0.120175</td>\n",
       "      <td>0.080635</td>\n",
       "      <td>0.056357</td>\n",
       "      <td>-0.034675</td>\n",
       "      <td>0.001351</td>\n",
       "      <td>1.000000</td>\n",
       "    </tr>\n",
       "  </tbody>\n",
       "</table>\n",
       "</div>"
      ],
      "text/plain": [
       "                                       Hospital_Id  ccs_diagnosis_code  \\\n",
       "Hospital_Id                               1.000000            0.052711   \n",
       "ccs_diagnosis_code                        0.052711            1.000000   \n",
       "ccs_procedure_code                        0.019366            0.051307   \n",
       "Code_illness                             -0.047558           -0.181906   \n",
       "Mortality_risk                           -0.041745           -0.269338   \n",
       "Weight_baby                               0.039582            0.034817   \n",
       "Tot_charg                                 0.021072           -0.076322   \n",
       "Tot_cost                                  0.003542           -0.041976   \n",
       "ratio_of_total_costs_to_total_charges     0.004918            0.030690   \n",
       "Result                                   -0.001362            0.000317   \n",
       "Payment_Typology                          0.149703           -0.075115   \n",
       "\n",
       "                                       ccs_procedure_code  Code_illness  \\\n",
       "Hospital_Id                                      0.019366     -0.047558   \n",
       "ccs_diagnosis_code                               0.051307     -0.181906   \n",
       "ccs_procedure_code                               1.000000      0.013522   \n",
       "Code_illness                                     0.013522      1.000000   \n",
       "Mortality_risk                                  -0.035020      0.635410   \n",
       "Weight_baby                                      0.117272     -0.262322   \n",
       "Tot_charg                                        0.025710      0.290234   \n",
       "Tot_cost                                         0.034001      0.246470   \n",
       "ratio_of_total_costs_to_total_charges            0.017527     -0.033883   \n",
       "Result                                          -0.000441      0.002065   \n",
       "Payment_Typology                                -0.050949      0.155879   \n",
       "\n",
       "                                       Mortality_risk  Weight_baby  Tot_charg  \\\n",
       "Hospital_Id                                 -0.041745     0.039582   0.021072   \n",
       "ccs_diagnosis_code                          -0.269338     0.034817  -0.076322   \n",
       "ccs_procedure_code                          -0.035020     0.117272   0.025710   \n",
       "Code_illness                                 0.635410    -0.262322   0.290234   \n",
       "Mortality_risk                               1.000000    -0.217464   0.221497   \n",
       "Weight_baby                                 -0.217464     1.000000  -0.099443   \n",
       "Tot_charg                                    0.221497    -0.099443   1.000000   \n",
       "Tot_cost                                     0.181717    -0.097408   0.723527   \n",
       "ratio_of_total_costs_to_total_charges       -0.036955     0.018374  -0.043142   \n",
       "Result                                       0.002483    -0.003758  -0.001055   \n",
       "Payment_Typology                             0.182199    -0.120175   0.080635   \n",
       "\n",
       "                                       Tot_cost  \\\n",
       "Hospital_Id                            0.003542   \n",
       "ccs_diagnosis_code                    -0.041976   \n",
       "ccs_procedure_code                     0.034001   \n",
       "Code_illness                           0.246470   \n",
       "Mortality_risk                         0.181717   \n",
       "Weight_baby                           -0.097408   \n",
       "Tot_charg                              0.723527   \n",
       "Tot_cost                               1.000000   \n",
       "ratio_of_total_costs_to_total_charges  0.421115   \n",
       "Result                                -0.001400   \n",
       "Payment_Typology                       0.056357   \n",
       "\n",
       "                                       ratio_of_total_costs_to_total_charges  \\\n",
       "Hospital_Id                                                         0.004918   \n",
       "ccs_diagnosis_code                                                  0.030690   \n",
       "ccs_procedure_code                                                  0.017527   \n",
       "Code_illness                                                       -0.033883   \n",
       "Mortality_risk                                                     -0.036955   \n",
       "Weight_baby                                                         0.018374   \n",
       "Tot_charg                                                          -0.043142   \n",
       "Tot_cost                                                            0.421115   \n",
       "ratio_of_total_costs_to_total_charges                               1.000000   \n",
       "Result                                                              0.000465   \n",
       "Payment_Typology                                                   -0.034675   \n",
       "\n",
       "                                         Result  Payment_Typology  \n",
       "Hospital_Id                           -0.001362          0.149703  \n",
       "ccs_diagnosis_code                     0.000317         -0.075115  \n",
       "ccs_procedure_code                    -0.000441         -0.050949  \n",
       "Code_illness                           0.002065          0.155879  \n",
       "Mortality_risk                         0.002483          0.182199  \n",
       "Weight_baby                           -0.003758         -0.120175  \n",
       "Tot_charg                             -0.001055          0.080635  \n",
       "Tot_cost                              -0.001400          0.056357  \n",
       "ratio_of_total_costs_to_total_charges  0.000465         -0.034675  \n",
       "Result                                 1.000000          0.001351  \n",
       "Payment_Typology                       0.001351          1.000000  "
      ]
     },
     "execution_count": 43,
     "metadata": {},
     "output_type": "execute_result"
    }
   ],
   "source": [
    "dataset.corr()"
   ]
  },
  {
   "cell_type": "code",
   "execution_count": 44,
   "metadata": {},
   "outputs": [
    {
     "data": {
      "image/png": "[encoded data removed]",
      "text/plain": [
       "<Figure size 1440x1440 with 2 Axes>"
      ]
     },
     "metadata": {
      "needs_background": "light"
     },
     "output_type": "display_data"
    }
   ],
   "source": [
    "#get correlations of each features in dataset\n",
    "corrmat = dataset.corr()\n",
    "top_corr_features = corrmat.index\n",
    "plt.figure(figsize=(20,20))\n",
    "#plot heat map\n",
    "g=sns.heatmap(dataset[top_corr_features].corr(),annot=True)"
   ]
  },
  {
   "cell_type": "code",
   "execution_count": 45,
   "metadata": {},
   "outputs": [
    {
     "name": "stdout",
     "output_type": "stream",
     "text": [
      "120 +\n"
     ]
    }
   ],
   "source": [
    "#### trying to convert string formatted data to integer / find out which value is not getting converted to integer datatype\n",
    "\n",
    "for i in dataset.Days_spend_hsptl.unique():\n",
    "    try:\n",
    "        int(i)\n",
    "    except ValueError:\n",
    "        print(i)"
   ]
  },
  {
   "cell_type": "markdown",
   "metadata": {},
   "source": [
    "#### So we have '120 +' entry in Days_spend_hsptl column. that is days spend hospital is more than 120..So we can replace it by integer 120 & Convert this column to integer dataype"
   ]
  },
  {
   "cell_type": "markdown",
   "metadata": {},
   "source": [
    "### Dividing data in to Predictors and Target"
   ]
  },
  {
   "cell_type": "code",
   "execution_count": 46,
   "metadata": {},
   "outputs": [
    {
     "data": {
      "text/html": [
       "<div>\n",
       "<style scoped>\n",
       "    .dataframe tbody tr th:only-of-type {\n",
       "        vertical-align: middle;\n",
       "    }\n",
       "\n",
       "    .dataframe tbody tr th {\n",
       "        vertical-align: top;\n",
       "    }\n",
       "\n",
       "    .dataframe thead th {\n",
       "        text-align: right;\n",
       "    }\n",
       "</style>\n",
       "<table border=\"1\" class=\"dataframe\">\n",
       "  <thead>\n",
       "    <tr style=\"text-align: right;\">\n",
       "      <th></th>\n",
       "      <th>Area_Service</th>\n",
       "      <th>Hospital_County</th>\n",
       "      <th>Hospital_Id</th>\n",
       "      <th>Age</th>\n",
       "      <th>Gender</th>\n",
       "      <th>Cultural_group</th>\n",
       "      <th>ethnicity</th>\n",
       "      <th>Days_spend_hsptl</th>\n",
       "      <th>Admission_type</th>\n",
       "      <th>Home_or_self_care</th>\n",
       "      <th>ccs_diagnosis_code</th>\n",
       "      <th>ccs_procedure_code</th>\n",
       "      <th>apr_drg_description</th>\n",
       "      <th>Code_illness</th>\n",
       "      <th>Mortality_risk</th>\n",
       "      <th>Surg_Description</th>\n",
       "      <th>Weight_baby</th>\n",
       "      <th>Abortion</th>\n",
       "      <th>Emergency_dept_yes_No</th>\n",
       "      <th>Tot_charg</th>\n",
       "      <th>Tot_cost</th>\n",
       "      <th>ratio_of_total_costs_to_total_charges</th>\n",
       "      <th>Payment_Typology</th>\n",
       "    </tr>\n",
       "  </thead>\n",
       "  <tbody>\n",
       "    <tr>\n",
       "      <th>0</th>\n",
       "      <td>Western NY</td>\n",
       "      <td>Allegany</td>\n",
       "      <td>37.0</td>\n",
       "      <td>30 to 49</td>\n",
       "      <td>F</td>\n",
       "      <td>White</td>\n",
       "      <td>Not Span/Hispanic</td>\n",
       "      <td>4</td>\n",
       "      <td>Elective</td>\n",
       "      <td>Home or Self Care</td>\n",
       "      <td>122</td>\n",
       "      <td>0</td>\n",
       "      <td>Other pneumonia</td>\n",
       "      <td>1</td>\n",
       "      <td>1.0</td>\n",
       "      <td>Medical</td>\n",
       "      <td>0</td>\n",
       "      <td>N</td>\n",
       "      <td>Y</td>\n",
       "      <td>5511.95</td>\n",
       "      <td>5582.49</td>\n",
       "      <td>1.012798</td>\n",
       "      <td>1</td>\n",
       "    </tr>\n",
       "    <tr>\n",
       "      <th>1</th>\n",
       "      <td>Western NY</td>\n",
       "      <td>Allegany</td>\n",
       "      <td>37.0</td>\n",
       "      <td>70 or Older</td>\n",
       "      <td>F</td>\n",
       "      <td>White</td>\n",
       "      <td>Not Span/Hispanic</td>\n",
       "      <td>4</td>\n",
       "      <td>Urgent</td>\n",
       "      <td>Short-term Hospital</td>\n",
       "      <td>197</td>\n",
       "      <td>0</td>\n",
       "      <td>Cellulitis &amp; other skin infections</td>\n",
       "      <td>3</td>\n",
       "      <td>2.0</td>\n",
       "      <td>Medical</td>\n",
       "      <td>0</td>\n",
       "      <td>N</td>\n",
       "      <td>Y</td>\n",
       "      <td>4783.20</td>\n",
       "      <td>5162.82</td>\n",
       "      <td>1.079365</td>\n",
       "      <td>1</td>\n",
       "    </tr>\n",
       "    <tr>\n",
       "      <th>2</th>\n",
       "      <td>Western NY</td>\n",
       "      <td>Allegany</td>\n",
       "      <td>37.0</td>\n",
       "      <td>30 to 49</td>\n",
       "      <td>F</td>\n",
       "      <td>White</td>\n",
       "      <td>Not Span/Hispanic</td>\n",
       "      <td>3</td>\n",
       "      <td>Urgent</td>\n",
       "      <td>Home or Self Care</td>\n",
       "      <td>122</td>\n",
       "      <td>0</td>\n",
       "      <td>Other pneumonia</td>\n",
       "      <td>1</td>\n",
       "      <td>1.0</td>\n",
       "      <td>Medical</td>\n",
       "      <td>0</td>\n",
       "      <td>N</td>\n",
       "      <td>Y</td>\n",
       "      <td>3829.15</td>\n",
       "      <td>4056.52</td>\n",
       "      <td>1.059379</td>\n",
       "      <td>1</td>\n",
       "    </tr>\n",
       "    <tr>\n",
       "      <th>3</th>\n",
       "      <td>Western NY</td>\n",
       "      <td>Allegany</td>\n",
       "      <td>37.0</td>\n",
       "      <td>0 to 17</td>\n",
       "      <td>F</td>\n",
       "      <td>White</td>\n",
       "      <td>Not Span/Hispanic</td>\n",
       "      <td>1</td>\n",
       "      <td>Urgent</td>\n",
       "      <td>Home or Self Care</td>\n",
       "      <td>122</td>\n",
       "      <td>0</td>\n",
       "      <td>Other pneumonia</td>\n",
       "      <td>1</td>\n",
       "      <td>1.0</td>\n",
       "      <td>Medical</td>\n",
       "      <td>0</td>\n",
       "      <td>N</td>\n",
       "      <td>Y</td>\n",
       "      <td>1108.20</td>\n",
       "      <td>1644.75</td>\n",
       "      <td>1.484167</td>\n",
       "      <td>1</td>\n",
       "    </tr>\n",
       "    <tr>\n",
       "      <th>4</th>\n",
       "      <td>Western NY</td>\n",
       "      <td>Allegany</td>\n",
       "      <td>37.0</td>\n",
       "      <td>70 or Older</td>\n",
       "      <td>F</td>\n",
       "      <td>White</td>\n",
       "      <td>Not Span/Hispanic</td>\n",
       "      <td>3</td>\n",
       "      <td>Elective</td>\n",
       "      <td>Home or Self Care</td>\n",
       "      <td>122</td>\n",
       "      <td>0</td>\n",
       "      <td>Other pneumonia</td>\n",
       "      <td>2</td>\n",
       "      <td>3.0</td>\n",
       "      <td>Medical</td>\n",
       "      <td>0</td>\n",
       "      <td>N</td>\n",
       "      <td>Y</td>\n",
       "      <td>3418.18</td>\n",
       "      <td>3370.87</td>\n",
       "      <td>0.986161</td>\n",
       "      <td>1</td>\n",
       "    </tr>\n",
       "  </tbody>\n",
       "</table>\n",
       "</div>"
      ],
      "text/plain": [
       "  Area_Service Hospital_County  Hospital_Id          Age Gender  \\\n",
       "0   Western NY        Allegany         37.0     30 to 49      F   \n",
       "1   Western NY        Allegany         37.0  70 or Older      F   \n",
       "2   Western NY        Allegany         37.0     30 to 49      F   \n",
       "3   Western NY        Allegany         37.0      0 to 17      F   \n",
       "4   Western NY        Allegany         37.0  70 or Older      F   \n",
       "\n",
       "  Cultural_group          ethnicity Days_spend_hsptl Admission_type  \\\n",
       "0          White  Not Span/Hispanic                4       Elective   \n",
       "1          White  Not Span/Hispanic                4         Urgent   \n",
       "2          White  Not Span/Hispanic                3         Urgent   \n",
       "3          White  Not Span/Hispanic                1         Urgent   \n",
       "4          White  Not Span/Hispanic                3       Elective   \n",
       "\n",
       "     Home_or_self_care  ccs_diagnosis_code  ccs_procedure_code  \\\n",
       "0    Home or Self Care                 122                   0   \n",
       "1  Short-term Hospital                 197                   0   \n",
       "2    Home or Self Care                 122                   0   \n",
       "3    Home or Self Care                 122                   0   \n",
       "4    Home or Self Care                 122                   0   \n",
       "\n",
       "                  apr_drg_description  Code_illness  Mortality_risk  \\\n",
       "0                     Other pneumonia             1             1.0   \n",
       "1  Cellulitis & other skin infections             3             2.0   \n",
       "2                     Other pneumonia             1             1.0   \n",
       "3                     Other pneumonia             1             1.0   \n",
       "4                     Other pneumonia             2             3.0   \n",
       "\n",
       "  Surg_Description  Weight_baby Abortion Emergency_dept_yes_No  Tot_charg  \\\n",
       "0          Medical            0        N                     Y    5511.95   \n",
       "1          Medical            0        N                     Y    4783.20   \n",
       "2          Medical            0        N                     Y    3829.15   \n",
       "3          Medical            0        N                     Y    1108.20   \n",
       "4          Medical            0        N                     Y    3418.18   \n",
       "\n",
       "   Tot_cost  ratio_of_total_costs_to_total_charges  Payment_Typology  \n",
       "0   5582.49                               1.012798                 1  \n",
       "1   5162.82                               1.079365                 1  \n",
       "2   4056.52                               1.059379                 1  \n",
       "3   1644.75                               1.484167                 1  \n",
       "4   3370.87                               0.986161                 1  "
      ]
     },
     "execution_count": 46,
     "metadata": {},
     "output_type": "execute_result"
    }
   ],
   "source": [
    "X=dataset.drop(columns=['Result'])\n",
    "X.columns\n",
    "X.head()"
   ]
  },
  {
   "cell_type": "code",
   "execution_count": 47,
   "metadata": {},
   "outputs": [
    {
     "data": {
      "text/plain": [
       "0          1\n",
       "1          1\n",
       "2          1\n",
       "3          0\n",
       "4          1\n",
       "          ..\n",
       "1048570    1\n",
       "1048571    1\n",
       "1048572    0\n",
       "1048573    1\n",
       "1048574    1\n",
       "Name: Result, Length: 1041265, dtype: int64"
      ]
     },
     "execution_count": 47,
     "metadata": {},
     "output_type": "execute_result"
    }
   ],
   "source": [
    "Y=dataset.Result\n",
    "Y"
   ]
  },
  {
   "cell_type": "code",
   "execution_count": 48,
   "metadata": {},
   "outputs": [
    {
     "data": {
      "text/plain": [
       "(1041265, 23)"
      ]
     },
     "execution_count": 48,
     "metadata": {},
     "output_type": "execute_result"
    }
   ],
   "source": [
    "X.shape"
   ]
  },
  {
   "cell_type": "code",
   "execution_count": 49,
   "metadata": {},
   "outputs": [],
   "source": [
    "# replacing value\n",
    "\n",
    "dataset.replace({'Days_spend_hsptl': '120 +'}, 120, inplace=True)"
   ]
  },
  {
   "cell_type": "code",
   "execution_count": 50,
   "metadata": {},
   "outputs": [],
   "source": [
    "# converting to intger datatype column..\n",
    "\n",
    "dataset.Days_spend_hsptl = dataset.Days_spend_hsptl.astype('int')"
   ]
  },
  {
   "cell_type": "code",
   "execution_count": 51,
   "metadata": {},
   "outputs": [
    {
     "data": {
      "text/html": [
       "<div>\n",
       "<style scoped>\n",
       "    .dataframe tbody tr th:only-of-type {\n",
       "        vertical-align: middle;\n",
       "    }\n",
       "\n",
       "    .dataframe tbody tr th {\n",
       "        vertical-align: top;\n",
       "    }\n",
       "\n",
       "    .dataframe thead th {\n",
       "        text-align: right;\n",
       "    }\n",
       "</style>\n",
       "<table border=\"1\" class=\"dataframe\">\n",
       "  <thead>\n",
       "    <tr style=\"text-align: right;\">\n",
       "      <th></th>\n",
       "      <th>Hospital_Id</th>\n",
       "      <th>Days_spend_hsptl</th>\n",
       "      <th>ccs_diagnosis_code</th>\n",
       "      <th>ccs_procedure_code</th>\n",
       "      <th>Code_illness</th>\n",
       "      <th>Mortality_risk</th>\n",
       "      <th>Weight_baby</th>\n",
       "      <th>Tot_charg</th>\n",
       "      <th>Tot_cost</th>\n",
       "      <th>ratio_of_total_costs_to_total_charges</th>\n",
       "      <th>Result</th>\n",
       "      <th>Payment_Typology</th>\n",
       "    </tr>\n",
       "  </thead>\n",
       "  <tbody>\n",
       "    <tr>\n",
       "      <th>0</th>\n",
       "      <td>37.0</td>\n",
       "      <td>4</td>\n",
       "      <td>122</td>\n",
       "      <td>0</td>\n",
       "      <td>1</td>\n",
       "      <td>1.0</td>\n",
       "      <td>0</td>\n",
       "      <td>5511.95</td>\n",
       "      <td>5582.49</td>\n",
       "      <td>1.012798</td>\n",
       "      <td>1</td>\n",
       "      <td>1</td>\n",
       "    </tr>\n",
       "    <tr>\n",
       "      <th>1</th>\n",
       "      <td>37.0</td>\n",
       "      <td>4</td>\n",
       "      <td>197</td>\n",
       "      <td>0</td>\n",
       "      <td>3</td>\n",
       "      <td>2.0</td>\n",
       "      <td>0</td>\n",
       "      <td>4783.20</td>\n",
       "      <td>5162.82</td>\n",
       "      <td>1.079365</td>\n",
       "      <td>1</td>\n",
       "      <td>1</td>\n",
       "    </tr>\n",
       "  </tbody>\n",
       "</table>\n",
       "</div>"
      ],
      "text/plain": [
       "   Hospital_Id  Days_spend_hsptl  ccs_diagnosis_code  ccs_procedure_code  \\\n",
       "0         37.0                 4                 122                   0   \n",
       "1         37.0                 4                 197                   0   \n",
       "\n",
       "   Code_illness  Mortality_risk  Weight_baby  Tot_charg  Tot_cost  \\\n",
       "0             1             1.0            0    5511.95   5582.49   \n",
       "1             3             2.0            0    4783.20   5162.82   \n",
       "\n",
       "   ratio_of_total_costs_to_total_charges  Result  Payment_Typology  \n",
       "0                               1.012798       1                 1  \n",
       "1                               1.079365       1                 1  "
      ]
     },
     "execution_count": 51,
     "metadata": {},
     "output_type": "execute_result"
    }
   ],
   "source": [
    "dataset.select_dtypes(exclude='object').head(2)"
   ]
  },
  {
   "cell_type": "code",
   "execution_count": 52,
   "metadata": {},
   "outputs": [],
   "source": [
    "dataset.Hospital_Id = dataset.Hospital_Id.astype('int')\n",
    "dataset.Mortality_risk = dataset.Mortality_risk.astype('int')"
   ]
  },
  {
   "cell_type": "markdown",
   "metadata": {},
   "source": [
    "#### Dropping non-importanat columns"
   ]
  },
  {
   "cell_type": "code",
   "execution_count": 53,
   "metadata": {},
   "outputs": [],
   "source": [
    "dataset.drop(['Hospital_Id', 'apr_drg_description', 'Abortion', 'Weight_baby'], axis=1, inplace=True)"
   ]
  },
  {
   "cell_type": "code",
   "execution_count": 54,
   "metadata": {},
   "outputs": [
    {
     "data": {
      "text/html": [
       "<div>\n",
       "<style scoped>\n",
       "    .dataframe tbody tr th:only-of-type {\n",
       "        vertical-align: middle;\n",
       "    }\n",
       "\n",
       "    .dataframe tbody tr th {\n",
       "        vertical-align: top;\n",
       "    }\n",
       "\n",
       "    .dataframe thead th {\n",
       "        text-align: right;\n",
       "    }\n",
       "</style>\n",
       "<table border=\"1\" class=\"dataframe\">\n",
       "  <thead>\n",
       "    <tr style=\"text-align: right;\">\n",
       "      <th></th>\n",
       "      <th>Area_Service</th>\n",
       "      <th>Hospital_County</th>\n",
       "      <th>Age</th>\n",
       "      <th>Gender</th>\n",
       "      <th>Cultural_group</th>\n",
       "      <th>ethnicity</th>\n",
       "      <th>Days_spend_hsptl</th>\n",
       "      <th>Admission_type</th>\n",
       "      <th>Home_or_self_care</th>\n",
       "      <th>ccs_diagnosis_code</th>\n",
       "      <th>ccs_procedure_code</th>\n",
       "      <th>Code_illness</th>\n",
       "      <th>Mortality_risk</th>\n",
       "      <th>Surg_Description</th>\n",
       "      <th>Emergency_dept_yes_No</th>\n",
       "      <th>Tot_charg</th>\n",
       "      <th>Tot_cost</th>\n",
       "      <th>ratio_of_total_costs_to_total_charges</th>\n",
       "      <th>Result</th>\n",
       "      <th>Payment_Typology</th>\n",
       "    </tr>\n",
       "  </thead>\n",
       "  <tbody>\n",
       "    <tr>\n",
       "      <th>0</th>\n",
       "      <td>Western NY</td>\n",
       "      <td>Allegany</td>\n",
       "      <td>30 to 49</td>\n",
       "      <td>F</td>\n",
       "      <td>White</td>\n",
       "      <td>Not Span/Hispanic</td>\n",
       "      <td>4</td>\n",
       "      <td>Elective</td>\n",
       "      <td>Home or Self Care</td>\n",
       "      <td>122</td>\n",
       "      <td>0</td>\n",
       "      <td>1</td>\n",
       "      <td>1</td>\n",
       "      <td>Medical</td>\n",
       "      <td>Y</td>\n",
       "      <td>5511.95</td>\n",
       "      <td>5582.49</td>\n",
       "      <td>1.012798</td>\n",
       "      <td>1</td>\n",
       "      <td>1</td>\n",
       "    </tr>\n",
       "    <tr>\n",
       "      <th>1</th>\n",
       "      <td>Western NY</td>\n",
       "      <td>Allegany</td>\n",
       "      <td>70 or Older</td>\n",
       "      <td>F</td>\n",
       "      <td>White</td>\n",
       "      <td>Not Span/Hispanic</td>\n",
       "      <td>4</td>\n",
       "      <td>Urgent</td>\n",
       "      <td>Short-term Hospital</td>\n",
       "      <td>197</td>\n",
       "      <td>0</td>\n",
       "      <td>3</td>\n",
       "      <td>2</td>\n",
       "      <td>Medical</td>\n",
       "      <td>Y</td>\n",
       "      <td>4783.20</td>\n",
       "      <td>5162.82</td>\n",
       "      <td>1.079365</td>\n",
       "      <td>1</td>\n",
       "      <td>1</td>\n",
       "    </tr>\n",
       "  </tbody>\n",
       "</table>\n",
       "</div>"
      ],
      "text/plain": [
       "  Area_Service Hospital_County          Age Gender Cultural_group  \\\n",
       "0   Western NY        Allegany     30 to 49      F          White   \n",
       "1   Western NY        Allegany  70 or Older      F          White   \n",
       "\n",
       "           ethnicity  Days_spend_hsptl Admission_type    Home_or_self_care  \\\n",
       "0  Not Span/Hispanic                 4       Elective    Home or Self Care   \n",
       "1  Not Span/Hispanic                 4         Urgent  Short-term Hospital   \n",
       "\n",
       "   ccs_diagnosis_code  ccs_procedure_code  Code_illness  Mortality_risk  \\\n",
       "0                 122                   0             1               1   \n",
       "1                 197                   0             3               2   \n",
       "\n",
       "  Surg_Description Emergency_dept_yes_No  Tot_charg  Tot_cost  \\\n",
       "0          Medical                     Y    5511.95   5582.49   \n",
       "1          Medical                     Y    4783.20   5162.82   \n",
       "\n",
       "   ratio_of_total_costs_to_total_charges  Result  Payment_Typology  \n",
       "0                               1.012798       1                 1  \n",
       "1                               1.079365       1                 1  "
      ]
     },
     "execution_count": 54,
     "metadata": {},
     "output_type": "execute_result"
    }
   ],
   "source": [
    "dataset.head(2)"
   ]
  },
  {
   "cell_type": "code",
   "execution_count": 55,
   "metadata": {},
   "outputs": [
    {
     "data": {
      "text/html": [
       "<div>\n",
       "<style scoped>\n",
       "    .dataframe tbody tr th:only-of-type {\n",
       "        vertical-align: middle;\n",
       "    }\n",
       "\n",
       "    .dataframe tbody tr th {\n",
       "        vertical-align: top;\n",
       "    }\n",
       "\n",
       "    .dataframe thead th {\n",
       "        text-align: right;\n",
       "    }\n",
       "</style>\n",
       "<table border=\"1\" class=\"dataframe\">\n",
       "  <thead>\n",
       "    <tr style=\"text-align: right;\">\n",
       "      <th></th>\n",
       "      <th>Area_Service</th>\n",
       "      <th>Hospital_County</th>\n",
       "      <th>Age</th>\n",
       "      <th>Gender</th>\n",
       "      <th>Cultural_group</th>\n",
       "      <th>ethnicity</th>\n",
       "      <th>Admission_type</th>\n",
       "      <th>Home_or_self_care</th>\n",
       "      <th>Surg_Description</th>\n",
       "      <th>Emergency_dept_yes_No</th>\n",
       "    </tr>\n",
       "  </thead>\n",
       "  <tbody>\n",
       "    <tr>\n",
       "      <th>0</th>\n",
       "      <td>Western NY</td>\n",
       "      <td>Allegany</td>\n",
       "      <td>30 to 49</td>\n",
       "      <td>F</td>\n",
       "      <td>White</td>\n",
       "      <td>Not Span/Hispanic</td>\n",
       "      <td>Elective</td>\n",
       "      <td>Home or Self Care</td>\n",
       "      <td>Medical</td>\n",
       "      <td>Y</td>\n",
       "    </tr>\n",
       "    <tr>\n",
       "      <th>1</th>\n",
       "      <td>Western NY</td>\n",
       "      <td>Allegany</td>\n",
       "      <td>70 or Older</td>\n",
       "      <td>F</td>\n",
       "      <td>White</td>\n",
       "      <td>Not Span/Hispanic</td>\n",
       "      <td>Urgent</td>\n",
       "      <td>Short-term Hospital</td>\n",
       "      <td>Medical</td>\n",
       "      <td>Y</td>\n",
       "    </tr>\n",
       "  </tbody>\n",
       "</table>\n",
       "</div>"
      ],
      "text/plain": [
       "  Area_Service Hospital_County          Age Gender Cultural_group  \\\n",
       "0   Western NY        Allegany     30 to 49      F          White   \n",
       "1   Western NY        Allegany  70 or Older      F          White   \n",
       "\n",
       "           ethnicity Admission_type    Home_or_self_care Surg_Description  \\\n",
       "0  Not Span/Hispanic       Elective    Home or Self Care          Medical   \n",
       "1  Not Span/Hispanic         Urgent  Short-term Hospital          Medical   \n",
       "\n",
       "  Emergency_dept_yes_No  \n",
       "0                     Y  \n",
       "1                     Y  "
      ]
     },
     "execution_count": 55,
     "metadata": {},
     "output_type": "execute_result"
    }
   ],
   "source": [
    "#encoding.\n",
    "dataset.select_dtypes(include=['object']).head(2)"
   ]
  },
  {
   "cell_type": "code",
   "execution_count": 56,
   "metadata": {},
   "outputs": [],
   "source": [
    "from sklearn.preprocessing import LabelBinarizer, LabelEncoder\n",
    "label = LabelEncoder()\n",
    "label_binizer =LabelBinarizer()"
   ]
  },
  {
   "cell_type": "code",
   "execution_count": 57,
   "metadata": {},
   "outputs": [],
   "source": [
    "label_area = label.fit(dataset.Area_Service)\n",
    "label_Hospital_County = label.fit(dataset.Hospital_County)\n",
    "label_Age = label.fit(dataset.Age)\n",
    "label_Cultural_group = label.fit(dataset.Cultural_group)\n",
    "label_ethnicity= label.fit(dataset.ethnicity)\n",
    "label_Admission_type = label.fit(dataset.Admission_type)\n",
    "label_Home_or_self_care = label.fit(dataset.Home_or_self_care)"
   ]
  },
  {
   "cell_type": "code",
   "execution_count": 58,
   "metadata": {},
   "outputs": [],
   "source": [
    "one_hot_Gender = label_binizer.fit(dataset.Gender)\n",
    "one_hot_Surg_Description = label_binizer.fit(dataset.Surg_Description)\n",
    "one_hot_Emergency_dept_yes_No = label_binizer.fit(dataset.Emergency_dept_yes_No)"
   ]
  },
  {
   "cell_type": "code",
   "execution_count": 59,
   "metadata": {},
   "outputs": [],
   "source": [
    "label_encoder_list = [label_area, label_Hospital_County,\n",
    "                label_Age, label_Cultural_group,\n",
    "                label_ethnicity, label_Admission_type,\n",
    "                label_Home_or_self_care]\n",
    "\n",
    "one_hot_coder_list = [one_hot_Gender, one_hot_Surg_Description, one_hot_Emergency_dept_yes_No]"
   ]
  },
  {
   "cell_type": "markdown",
   "metadata": {},
   "source": [
    "#### pickling encoding object & columns for deployment point of view..."
   ]
  },
  {
   "cell_type": "code",
   "execution_count": 60,
   "metadata": {},
   "outputs": [],
   "source": [
    "from joblib import dump, load"
   ]
  },
  {
   "cell_type": "code",
   "execution_count": 61,
   "metadata": {},
   "outputs": [
    {
     "data": {
      "text/plain": [
       "['label_encoder_list.joblib']"
      ]
     },
     "execution_count": 61,
     "metadata": {},
     "output_type": "execute_result"
    }
   ],
   "source": [
    "dump(label_encoder_list, 'label_encoder_list.joblib')"
   ]
  },
  {
   "cell_type": "code",
   "execution_count": 62,
   "metadata": {},
   "outputs": [
    {
     "data": {
      "text/plain": [
       "['one_hot_coder_list.joblib']"
      ]
     },
     "execution_count": 62,
     "metadata": {},
     "output_type": "execute_result"
    }
   ],
   "source": [
    "dump(one_hot_coder_list, 'one_hot_coder_list.joblib')"
   ]
  },
  {
   "cell_type": "code",
   "execution_count": 63,
   "metadata": {},
   "outputs": [],
   "source": [
    "label_to_column = ['Area_Service', 'Hospital_County',\n",
    "                  'Age', 'Cultural_group', 'ethnicity',\n",
    "                  'Admission_type', 'Home_or_self_care']\n",
    "\n",
    "one_hot_column = ['Gender', 'Surg_Description', 'Emergency_dept_yes_No']"
   ]
  },
  {
   "cell_type": "code",
   "execution_count": 64,
   "metadata": {},
   "outputs": [
    {
     "data": {
      "text/plain": [
       "['label_to_column.joblib']"
      ]
     },
     "execution_count": 64,
     "metadata": {},
     "output_type": "execute_result"
    }
   ],
   "source": [
    "dump(label_to_column, 'label_to_column.joblib')"
   ]
  },
  {
   "cell_type": "code",
   "execution_count": 65,
   "metadata": {},
   "outputs": [
    {
     "data": {
      "text/plain": [
       "['one_hot_column.joblib']"
      ]
     },
     "execution_count": 65,
     "metadata": {},
     "output_type": "execute_result"
    }
   ],
   "source": [
    "dump(one_hot_column, 'one_hot_column.joblib')"
   ]
  },
  {
   "cell_type": "code",
   "execution_count": 66,
   "metadata": {},
   "outputs": [],
   "source": [
    "# applyibng label encoding on columns..also this below cells can be used in deployment as well"
   ]
  },
  {
   "cell_type": "code",
   "execution_count": 67,
   "metadata": {},
   "outputs": [],
   "source": [
    "j = 0\n",
    "for i in label_to_column:\n",
    "    dataset[i] = label_encoder_list[j].fit_transform(dataset[i])\n",
    "    j =+1"
   ]
  },
  {
   "cell_type": "code",
   "execution_count": 68,
   "metadata": {},
   "outputs": [],
   "source": [
    "# applyibng one hot encoding on columns..also this below cells can be used in deployment as well"
   ]
  },
  {
   "cell_type": "code",
   "execution_count": 69,
   "metadata": {},
   "outputs": [],
   "source": [
    "k = 0\n",
    "for i in one_hot_column:\n",
    "    dataset[i] = one_hot_coder_list[k].fit_transform(dataset[i])\n",
    "    k =+1"
   ]
  },
  {
   "cell_type": "code",
   "execution_count": 70,
   "metadata": {},
   "outputs": [
    {
     "data": {
      "text/html": [
       "<div>\n",
       "<style scoped>\n",
       "    .dataframe tbody tr th:only-of-type {\n",
       "        vertical-align: middle;\n",
       "    }\n",
       "\n",
       "    .dataframe tbody tr th {\n",
       "        vertical-align: top;\n",
       "    }\n",
       "\n",
       "    .dataframe thead th {\n",
       "        text-align: right;\n",
       "    }\n",
       "</style>\n",
       "<table border=\"1\" class=\"dataframe\">\n",
       "  <thead>\n",
       "    <tr style=\"text-align: right;\">\n",
       "      <th></th>\n",
       "      <th>Area_Service</th>\n",
       "      <th>Hospital_County</th>\n",
       "      <th>Age</th>\n",
       "      <th>Gender</th>\n",
       "      <th>Cultural_group</th>\n",
       "      <th>ethnicity</th>\n",
       "      <th>Days_spend_hsptl</th>\n",
       "      <th>Admission_type</th>\n",
       "      <th>Home_or_self_care</th>\n",
       "      <th>ccs_diagnosis_code</th>\n",
       "      <th>ccs_procedure_code</th>\n",
       "      <th>Code_illness</th>\n",
       "      <th>Mortality_risk</th>\n",
       "      <th>Surg_Description</th>\n",
       "      <th>Emergency_dept_yes_No</th>\n",
       "      <th>Tot_charg</th>\n",
       "      <th>Tot_cost</th>\n",
       "      <th>ratio_of_total_costs_to_total_charges</th>\n",
       "      <th>Result</th>\n",
       "      <th>Payment_Typology</th>\n",
       "    </tr>\n",
       "  </thead>\n",
       "  <tbody>\n",
       "    <tr>\n",
       "      <th>0</th>\n",
       "      <td>6</td>\n",
       "      <td>1</td>\n",
       "      <td>2</td>\n",
       "      <td>1</td>\n",
       "      <td>3</td>\n",
       "      <td>0</td>\n",
       "      <td>4</td>\n",
       "      <td>0</td>\n",
       "      <td>7</td>\n",
       "      <td>122</td>\n",
       "      <td>0</td>\n",
       "      <td>1</td>\n",
       "      <td>1</td>\n",
       "      <td>0</td>\n",
       "      <td>1</td>\n",
       "      <td>5511.95</td>\n",
       "      <td>5582.49</td>\n",
       "      <td>1.012798</td>\n",
       "      <td>1</td>\n",
       "      <td>1</td>\n",
       "    </tr>\n",
       "    <tr>\n",
       "      <th>1</th>\n",
       "      <td>6</td>\n",
       "      <td>1</td>\n",
       "      <td>4</td>\n",
       "      <td>1</td>\n",
       "      <td>3</td>\n",
       "      <td>0</td>\n",
       "      <td>4</td>\n",
       "      <td>5</td>\n",
       "      <td>17</td>\n",
       "      <td>197</td>\n",
       "      <td>0</td>\n",
       "      <td>3</td>\n",
       "      <td>2</td>\n",
       "      <td>0</td>\n",
       "      <td>1</td>\n",
       "      <td>4783.20</td>\n",
       "      <td>5162.82</td>\n",
       "      <td>1.079365</td>\n",
       "      <td>1</td>\n",
       "      <td>1</td>\n",
       "    </tr>\n",
       "    <tr>\n",
       "      <th>2</th>\n",
       "      <td>6</td>\n",
       "      <td>1</td>\n",
       "      <td>2</td>\n",
       "      <td>1</td>\n",
       "      <td>3</td>\n",
       "      <td>0</td>\n",
       "      <td>3</td>\n",
       "      <td>5</td>\n",
       "      <td>7</td>\n",
       "      <td>122</td>\n",
       "      <td>0</td>\n",
       "      <td>1</td>\n",
       "      <td>1</td>\n",
       "      <td>0</td>\n",
       "      <td>1</td>\n",
       "      <td>3829.15</td>\n",
       "      <td>4056.52</td>\n",
       "      <td>1.059379</td>\n",
       "      <td>1</td>\n",
       "      <td>1</td>\n",
       "    </tr>\n",
       "    <tr>\n",
       "      <th>3</th>\n",
       "      <td>6</td>\n",
       "      <td>1</td>\n",
       "      <td>0</td>\n",
       "      <td>1</td>\n",
       "      <td>3</td>\n",
       "      <td>0</td>\n",
       "      <td>1</td>\n",
       "      <td>5</td>\n",
       "      <td>7</td>\n",
       "      <td>122</td>\n",
       "      <td>0</td>\n",
       "      <td>1</td>\n",
       "      <td>1</td>\n",
       "      <td>0</td>\n",
       "      <td>1</td>\n",
       "      <td>1108.20</td>\n",
       "      <td>1644.75</td>\n",
       "      <td>1.484167</td>\n",
       "      <td>0</td>\n",
       "      <td>1</td>\n",
       "    </tr>\n",
       "    <tr>\n",
       "      <th>4</th>\n",
       "      <td>6</td>\n",
       "      <td>1</td>\n",
       "      <td>4</td>\n",
       "      <td>1</td>\n",
       "      <td>3</td>\n",
       "      <td>0</td>\n",
       "      <td>3</td>\n",
       "      <td>0</td>\n",
       "      <td>7</td>\n",
       "      <td>122</td>\n",
       "      <td>0</td>\n",
       "      <td>2</td>\n",
       "      <td>3</td>\n",
       "      <td>0</td>\n",
       "      <td>1</td>\n",
       "      <td>3418.18</td>\n",
       "      <td>3370.87</td>\n",
       "      <td>0.986161</td>\n",
       "      <td>1</td>\n",
       "      <td>1</td>\n",
       "    </tr>\n",
       "  </tbody>\n",
       "</table>\n",
       "</div>"
      ],
      "text/plain": [
       "   Area_Service  Hospital_County  Age  Gender  Cultural_group  ethnicity  \\\n",
       "0             6                1    2       1               3          0   \n",
       "1             6                1    4       1               3          0   \n",
       "2             6                1    2       1               3          0   \n",
       "3             6                1    0       1               3          0   \n",
       "4             6                1    4       1               3          0   \n",
       "\n",
       "   Days_spend_hsptl  Admission_type  Home_or_self_care  ccs_diagnosis_code  \\\n",
       "0                 4               0                  7                 122   \n",
       "1                 4               5                 17                 197   \n",
       "2                 3               5                  7                 122   \n",
       "3                 1               5                  7                 122   \n",
       "4                 3               0                  7                 122   \n",
       "\n",
       "   ccs_procedure_code  Code_illness  Mortality_risk  Surg_Description  \\\n",
       "0                   0             1               1                 0   \n",
       "1                   0             3               2                 0   \n",
       "2                   0             1               1                 0   \n",
       "3                   0             1               1                 0   \n",
       "4                   0             2               3                 0   \n",
       "\n",
       "   Emergency_dept_yes_No  Tot_charg  Tot_cost  \\\n",
       "0                      1    5511.95   5582.49   \n",
       "1                      1    4783.20   5162.82   \n",
       "2                      1    3829.15   4056.52   \n",
       "3                      1    1108.20   1644.75   \n",
       "4                      1    3418.18   3370.87   \n",
       "\n",
       "   ratio_of_total_costs_to_total_charges  Result  Payment_Typology  \n",
       "0                               1.012798       1                 1  \n",
       "1                               1.079365       1                 1  \n",
       "2                               1.059379       1                 1  \n",
       "3                               1.484167       0                 1  \n",
       "4                               0.986161       1                 1  "
      ]
     },
     "execution_count": 70,
     "metadata": {},
     "output_type": "execute_result"
    }
   ],
   "source": [
    "dataset.head()"
   ]
  },
  {
   "cell_type": "code",
   "execution_count": 71,
   "metadata": {},
   "outputs": [],
   "source": [
    "#Performing on sample datasets..."
   ]
  },
  {
   "cell_type": "code",
   "execution_count": 72,
   "metadata": {},
   "outputs": [],
   "source": [
    "# taking 5% sample data from whole dataset\n",
    "\n",
    "sample_data = dataset.sample(frac=0.02)"
   ]
  },
  {
   "cell_type": "code",
   "execution_count": 73,
   "metadata": {},
   "outputs": [
    {
     "data": {
      "text/plain": [
       "1    15674\n",
       "0     5151\n",
       "Name: Result, dtype: int64"
      ]
     },
     "execution_count": 73,
     "metadata": {},
     "output_type": "execute_result"
    }
   ],
   "source": [
    "# checking for result column unique values counts..\n",
    "\n",
    "sample_data.Result.value_counts()"
   ]
  },
  {
   "cell_type": "code",
   "execution_count": 74,
   "metadata": {},
   "outputs": [
    {
     "data": {
      "image/png": "[encoded data removed]",
      "text/plain": [
       "<Figure size 432x288 with 1 Axes>"
      ]
     },
     "metadata": {
      "needs_background": "light"
     },
     "output_type": "display_data"
    }
   ],
   "source": [
    "sns.countplot(sample_data.Result)\n",
    "plt.show()"
   ]
  },
  {
   "cell_type": "markdown",
   "metadata": {},
   "source": [
    "### Upsampling before splitting the data into train & test"
   ]
  },
  {
   "cell_type": "code",
   "execution_count": 75,
   "metadata": {},
   "outputs": [],
   "source": [
    "# seperating '0', & '1' label \n",
    "\n",
    "sample_minority = sample_data.loc[sample_data['Result']==0]\n",
    "sample_majority = sample_data.loc[sample_data['Result']==1]"
   ]
  },
  {
   "cell_type": "code",
   "execution_count": 76,
   "metadata": {},
   "outputs": [],
   "source": [
    "# doing upsampling of minority classes... taking 100 to 80% ratio\n",
    "\n",
    "# sample_majority.shape[0]*0.80\n",
    "\n",
    "from sklearn.utils import resample\n",
    "sample_data_minority_upsampled = resample(sample_minority , replace=True, n_samples=12000, random_state=42)"
   ]
  },
  {
   "cell_type": "code",
   "execution_count": 77,
   "metadata": {},
   "outputs": [],
   "source": [
    "# combining upsampled data to majority class data...\n",
    "\n",
    "sample_data_upsampled = pd.concat([sample_majority, sample_data_minority_upsampled ], ignore_index=True)"
   ]
  },
  {
   "cell_type": "code",
   "execution_count": 78,
   "metadata": {},
   "outputs": [],
   "source": [
    "# seperating indepedent & depedent variabales..\n",
    "\n",
    "x = sample_data_upsampled.drop(['Result'],axis=1).values\n",
    "y = sample_data_upsampled.Result.values"
   ]
  },
  {
   "cell_type": "code",
   "execution_count": 79,
   "metadata": {},
   "outputs": [],
   "source": [
    "x_train, x_test, y_train, y_test = train_test_split(x, y, test_size=0.2, stratify = y, random_state=42)"
   ]
  },
  {
   "cell_type": "code",
   "execution_count": 80,
   "metadata": {},
   "outputs": [],
   "source": [
    "# finding best ccp_alph tree prunning parameter. So that it will avoid overfit issue\n",
    "\n",
    "def find_alpha(x_train, x_test, y_train, y_test):\n",
    "    \n",
    "    import matplotlib.pyplot as plt\n",
    "    from sklearn.ensemble import RandomForestClassifier\n",
    "    \n",
    "    \n",
    "    ccp_alphas = np.arange(0.000, 0.040, 0.002)\n",
    "    clfs = []\n",
    "    for ccp_alpha in ccp_alphas:\n",
    "        clf = RandomForestClassifier(n_estimators=15, random_state=42, ccp_alpha=ccp_alpha)\n",
    "        clf.fit(x_train, y_train)\n",
    "        clfs.append(clf)\n",
    "\n",
    "    train_scores = [clf.score(x_train, y_train) for clf in clfs]\n",
    "    test_scores = [clf.score(x_test, y_test) for clf in clfs]\n",
    "\n",
    "    fig, ax = plt.subplots(figsize=(15,6))\n",
    "    ax.set_xlabel(\"alpha\")\n",
    "    ax.set_ylabel(\"accuracy\")\n",
    "    ax.set_title(\"Accuracy vs alpha for training and testing sets\")\n",
    "    ax.plot(ccp_alphas, train_scores, marker='o', label=\"train\",drawstyle=\"steps-post\")\n",
    "    ax.plot(ccp_alphas, test_scores, marker='o', label=\"test\",drawstyle=\"steps-post\")\n",
    "    ax.set_xticks(np.arange(0.000,0.040, 0.002))\n",
    "    ax.set_yticks(np.arange(0.70,1.01, 0.1))\n",
    "    ax.legend()\n",
    "    plt.grid(True)\n",
    "    plt.rcParams['xtick.labelsize']=12\n",
    "    plt.rcParams['ytick.labelsize']=12\n",
    "    plt.show()"
   ]
  },
  {
   "cell_type": "code",
   "execution_count": 81,
   "metadata": {},
   "outputs": [
    {
     "data": {
      "image/png": "[encoded data removed]",
      "text/plain": [
       "<Figure size 1080x432 with 1 Axes>"
      ]
     },
     "metadata": {
      "needs_background": "light"
     },
     "output_type": "display_data"
    }
   ],
   "source": [
    "find_alpha(x_train, x_test, y_train, y_test)"
   ]
  },
  {
   "cell_type": "markdown",
   "metadata": {},
   "source": [
    "#### ccp_alph parameter should be zero for this case."
   ]
  },
  {
   "cell_type": "markdown",
   "metadata": {},
   "source": [
    "### Building Model with n_estimators=100"
   ]
  },
  {
   "cell_type": "code",
   "execution_count": 82,
   "metadata": {},
   "outputs": [],
   "source": [
    "from sklearn.ensemble import RandomForestClassifier\n",
    "sample_RF_upsampled = RandomForestClassifier(n_estimators=100, random_state=42)"
   ]
  },
  {
   "cell_type": "code",
   "execution_count": 83,
   "metadata": {},
   "outputs": [],
   "source": [
    "clf_sample = sample_RF_upsampled.fit(x_train, y_train)"
   ]
  },
  {
   "cell_type": "code",
   "execution_count": 84,
   "metadata": {},
   "outputs": [],
   "source": [
    "y_pred_train = clf_sample.predict(x_train)\n",
    "y_pred = clf_sample.predict(x_test)"
   ]
  },
  {
   "cell_type": "code",
   "execution_count": 85,
   "metadata": {},
   "outputs": [
    {
     "name": "stdout",
     "output_type": "stream",
     "text": [
      "              precision    recall  f1-score   support\n",
      "\n",
      "           0       1.00      1.00      1.00      9600\n",
      "           1       1.00      1.00      1.00     12539\n",
      "\n",
      "    accuracy                           1.00     22139\n",
      "   macro avg       1.00      1.00      1.00     22139\n",
      "weighted avg       1.00      1.00      1.00     22139\n",
      "\n"
     ]
    }
   ],
   "source": [
    "print(classification_report(y_train, y_pred_train ))"
   ]
  },
  {
   "cell_type": "code",
   "execution_count": 86,
   "metadata": {},
   "outputs": [
    {
     "name": "stdout",
     "output_type": "stream",
     "text": [
      "              precision    recall  f1-score   support\n",
      "\n",
      "           0       0.92      0.85      0.88      2400\n",
      "           1       0.89      0.94      0.92      3135\n",
      "\n",
      "    accuracy                           0.90      5535\n",
      "   macro avg       0.91      0.90      0.90      5535\n",
      "weighted avg       0.90      0.90      0.90      5535\n",
      "\n"
     ]
    }
   ],
   "source": [
    "print(classification_report(y_test, y_pred ))"
   ]
  },
  {
   "cell_type": "code",
   "execution_count": 87,
   "metadata": {},
   "outputs": [
    {
     "data": {
      "text/plain": [
       "array([0.89936766, 0.90496838, 0.90496838, 0.9100271 , 0.90169859])"
      ]
     },
     "execution_count": 87,
     "metadata": {},
     "output_type": "execute_result"
    }
   ],
   "source": [
    "cross_val_score(clf_sample, x, y)"
   ]
  },
  {
   "cell_type": "markdown",
   "metadata": {},
   "source": [
    "### Building Model with n_estimators=15"
   ]
  },
  {
   "cell_type": "code",
   "execution_count": 88,
   "metadata": {},
   "outputs": [],
   "source": [
    "from sklearn.ensemble import RandomForestClassifier\n",
    "sample_RF15_upsampled = RandomForestClassifier(n_estimators=15, random_state=42)"
   ]
  },
  {
   "cell_type": "code",
   "execution_count": 89,
   "metadata": {},
   "outputs": [],
   "source": [
    "clf_15_sample = sample_RF_upsampled.fit(x_train, y_train)"
   ]
  },
  {
   "cell_type": "code",
   "execution_count": 90,
   "metadata": {},
   "outputs": [],
   "source": [
    "y_pred_train = clf_15_sample.predict(x_train)\n",
    "y_pred = clf_15_sample.predict(x_test)"
   ]
  },
  {
   "cell_type": "code",
   "execution_count": 91,
   "metadata": {},
   "outputs": [
    {
     "name": "stdout",
     "output_type": "stream",
     "text": [
      "              precision    recall  f1-score   support\n",
      "\n",
      "           0       1.00      1.00      1.00      9600\n",
      "           1       1.00      1.00      1.00     12539\n",
      "\n",
      "    accuracy                           1.00     22139\n",
      "   macro avg       1.00      1.00      1.00     22139\n",
      "weighted avg       1.00      1.00      1.00     22139\n",
      "\n"
     ]
    }
   ],
   "source": [
    "print(classification_report(y_train, y_pred_train ))"
   ]
  },
  {
   "cell_type": "code",
   "execution_count": 92,
   "metadata": {},
   "outputs": [
    {
     "name": "stdout",
     "output_type": "stream",
     "text": [
      "              precision    recall  f1-score   support\n",
      "\n",
      "           0       0.92      0.85      0.88      2400\n",
      "           1       0.89      0.94      0.92      3135\n",
      "\n",
      "    accuracy                           0.90      5535\n",
      "   macro avg       0.91      0.90      0.90      5535\n",
      "weighted avg       0.90      0.90      0.90      5535\n",
      "\n"
     ]
    }
   ],
   "source": [
    "print(classification_report(y_test, y_pred ))"
   ]
  },
  {
   "cell_type": "code",
   "execution_count": 93,
   "metadata": {},
   "outputs": [
    {
     "data": {
      "text/plain": [
       "array([0.89936766, 0.90496838, 0.90496838, 0.9100271 , 0.90169859])"
      ]
     },
     "execution_count": 93,
     "metadata": {},
     "output_type": "execute_result"
    }
   ],
   "source": [
    "cross_val_score(clf_15_sample, x, y)"
   ]
  },
  {
   "cell_type": "code",
   "execution_count": 94,
   "metadata": {},
   "outputs": [
    {
     "name": "stdout",
     "output_type": "stream",
     "text": [
      "              precision    recall  f1-score   support\n",
      "\n",
      "           0       0.30      0.08      0.12    260904\n",
      "           1       0.75      0.94      0.84    780361\n",
      "\n",
      "    accuracy                           0.72   1041265\n",
      "   macro avg       0.53      0.51      0.48   1041265\n",
      "weighted avg       0.64      0.72      0.66   1041265\n",
      "\n"
     ]
    }
   ],
   "source": [
    "y_pred_whole = clf_15_sample.predict(dataset.drop(['Result'],axis=1))\n",
    "\n",
    "print(classification_report(dataset.Result.values, y_pred_whole))"
   ]
  },
  {
   "cell_type": "markdown",
   "metadata": {},
   "source": [
    "### Upsampling after train_test_split"
   ]
  },
  {
   "cell_type": "markdown",
   "metadata": {},
   "source": [
    "##### Upsampling using sklearn resample"
   ]
  },
  {
   "cell_type": "code",
   "execution_count": 95,
   "metadata": {},
   "outputs": [],
   "source": [
    "x = sample_data.drop(['Result'],axis=1).values\n",
    "y = sample_data.Result.values"
   ]
  },
  {
   "cell_type": "code",
   "execution_count": 96,
   "metadata": {},
   "outputs": [],
   "source": [
    "x_train, x_test, y_train, y_test = train_test_split(x, y, test_size=0.2, stratify = y, random_state=42)"
   ]
  },
  {
   "cell_type": "code",
   "execution_count": 97,
   "metadata": {},
   "outputs": [
    {
     "data": {
      "text/plain": [
       "Counter({0: 4121, 1: 12539})"
      ]
     },
     "execution_count": 97,
     "metadata": {},
     "output_type": "execute_result"
    }
   ],
   "source": [
    "from collections import Counter\n",
    "Counter(y_train)"
   ]
  },
  {
   "cell_type": "code",
   "execution_count": 98,
   "metadata": {},
   "outputs": [],
   "source": [
    "x_train_df = pd.DataFrame(x_train, columns=sample_data.drop(['Result'],axis=1).columns)\n",
    "y_train_df = pd.DataFrame(y_train, columns=['Result'])\n",
    "\n",
    "df_train = pd.concat([x_train_df, y_train_df],axis=1)"
   ]
  },
  {
   "cell_type": "code",
   "execution_count": 99,
   "metadata": {},
   "outputs": [],
   "source": [
    "df_train_majority = df_train.loc[df_train['Result']==1]\n",
    "df_train_minority = df_train.loc[df_train['Result']==0]"
   ]
  },
  {
   "cell_type": "code",
   "execution_count": 100,
   "metadata": {},
   "outputs": [
    {
     "data": {
      "text/plain": [
       "(12539, 20)"
      ]
     },
     "execution_count": 100,
     "metadata": {},
     "output_type": "execute_result"
    }
   ],
   "source": [
    "df_train_majority.shape"
   ]
  },
  {
   "cell_type": "code",
   "execution_count": 101,
   "metadata": {},
   "outputs": [
    {
     "data": {
      "text/plain": [
       "(4121, 20)"
      ]
     },
     "execution_count": 101,
     "metadata": {},
     "output_type": "execute_result"
    }
   ],
   "source": [
    "df_train_minority.shape"
   ]
  },
  {
   "cell_type": "code",
   "execution_count": 102,
   "metadata": {},
   "outputs": [
    {
     "data": {
      "text/plain": [
       "9989.6"
      ]
     },
     "execution_count": 102,
     "metadata": {},
     "output_type": "execute_result"
    }
   ],
   "source": [
    "# checking 80% row counts w.r.t majority class\n",
    "12487*0.80"
   ]
  },
  {
   "cell_type": "code",
   "execution_count": 103,
   "metadata": {},
   "outputs": [],
   "source": [
    "# doing upsampling of minority classes... taking 100 to 80% ratio\n",
    "\n",
    "# sample_majority.shape[0]*0.80\n",
    "\n",
    "from sklearn.utils import resample\n",
    "df_train_minority_upsampled = resample(df_train_minority , replace=True, n_samples=9990, random_state=42)"
   ]
  },
  {
   "cell_type": "code",
   "execution_count": 104,
   "metadata": {},
   "outputs": [],
   "source": [
    "after_split_upsampled = pd.concat([df_train_majority, df_train_minority_upsampled])"
   ]
  },
  {
   "cell_type": "code",
   "execution_count": 105,
   "metadata": {},
   "outputs": [],
   "source": [
    "# splitting into x_train, y_train only..note: we have alerady splitted test sets using k fold...\n",
    "\n",
    "x_train_upsampled = after_split_upsampled.drop(['Result'],axis=1).values\n",
    "y_train_upsampled = after_split_upsampled.Result.values"
   ]
  },
  {
   "cell_type": "code",
   "execution_count": 106,
   "metadata": {},
   "outputs": [],
   "source": [
    "from sklearn.ensemble import RandomForestClassifier\n",
    "sample_RF15_after_split_upsampled = RandomForestClassifier(n_estimators=15, random_state=42)"
   ]
  },
  {
   "cell_type": "code",
   "execution_count": 107,
   "metadata": {},
   "outputs": [],
   "source": [
    "sample_RF15_after_split_upsampled = sample_RF15_after_split_upsampled.fit(x_train_upsampled, y_train_upsampled)"
   ]
  },
  {
   "cell_type": "code",
   "execution_count": 108,
   "metadata": {},
   "outputs": [],
   "source": [
    "y_pred_train = sample_RF15_after_split_upsampled.predict(x_train_upsampled)\n",
    "y_pred = sample_RF15_after_split_upsampled.predict(x_test)"
   ]
  },
  {
   "cell_type": "code",
   "execution_count": 109,
   "metadata": {},
   "outputs": [
    {
     "data": {
      "text/plain": [
       "Counter({1: 3135, 0: 1030})"
      ]
     },
     "execution_count": 109,
     "metadata": {},
     "output_type": "execute_result"
    }
   ],
   "source": [
    "Counter(y_test)"
   ]
  },
  {
   "cell_type": "code",
   "execution_count": 110,
   "metadata": {},
   "outputs": [
    {
     "name": "stdout",
     "output_type": "stream",
     "text": [
      "              precision    recall  f1-score   support\n",
      "\n",
      "           0       1.00      1.00      1.00      9990\n",
      "           1       1.00      1.00      1.00     12539\n",
      "\n",
      "    accuracy                           1.00     22529\n",
      "   macro avg       1.00      1.00      1.00     22529\n",
      "weighted avg       1.00      1.00      1.00     22529\n",
      "\n"
     ]
    }
   ],
   "source": [
    "print(classification_report(y_train_upsampled, y_pred_train ))"
   ]
  },
  {
   "cell_type": "code",
   "execution_count": 111,
   "metadata": {},
   "outputs": [
    {
     "name": "stdout",
     "output_type": "stream",
     "text": [
      "              precision    recall  f1-score   support\n",
      "\n",
      "           0       0.21      0.08      0.12      1030\n",
      "           1       0.75      0.90      0.82      3135\n",
      "\n",
      "    accuracy                           0.70      4165\n",
      "   macro avg       0.48      0.49      0.47      4165\n",
      "weighted avg       0.62      0.70      0.64      4165\n",
      "\n"
     ]
    }
   ],
   "source": [
    "print(classification_report(y_test, y_pred ))"
   ]
  },
  {
   "cell_type": "markdown",
   "metadata": {},
   "source": [
    "#### Conclusion:It is clear that, upsampling tech. is best suited for imbalanced dataset..when we upsample minority class before train_test_split"
   ]
  },
  {
   "cell_type": "markdown",
   "metadata": {},
   "source": [
    "### Model Building On whole dataset"
   ]
  },
  {
   "cell_type": "code",
   "execution_count": 112,
   "metadata": {},
   "outputs": [],
   "source": [
    "data_minority = dataset.loc[dataset['Result']==0]\n",
    "data_majority = dataset.loc[dataset['Result']==1]"
   ]
  },
  {
   "cell_type": "code",
   "execution_count": 113,
   "metadata": {},
   "outputs": [],
   "source": [
    "from sklearn.utils import resample\n",
    "data_minority_upsampled = resample(data_minority, replace=True, n_samples=624290, random_state=42)\n",
    "data_upsampled = pd.concat([data_majority, data_minority_upsampled ], ignore_index=True)"
   ]
  },
  {
   "cell_type": "code",
   "execution_count": 114,
   "metadata": {},
   "outputs": [],
   "source": [
    "X = data_upsampled.drop(['Result'],axis=1).values\n",
    "Y = data_upsampled.Result.values"
   ]
  },
  {
   "cell_type": "code",
   "execution_count": 115,
   "metadata": {},
   "outputs": [],
   "source": [
    "x_train, x_test, y_train, y_test = train_test_split(X, Y, test_size=0.2, stratify=Y, random_state=30)"
   ]
  },
  {
   "cell_type": "code",
   "execution_count": 116,
   "metadata": {},
   "outputs": [],
   "source": [
    "from sklearn.ensemble import RandomForestClassifier\n",
    "model_rf_upsampled = RandomForestClassifier(n_estimators=15, random_state=42)"
   ]
  },
  {
   "cell_type": "code",
   "execution_count": 117,
   "metadata": {},
   "outputs": [
    {
     "data": {
      "text/plain": [
       "RandomForestClassifier(n_estimators=15, random_state=42)"
      ]
     },
     "execution_count": 117,
     "metadata": {},
     "output_type": "execute_result"
    }
   ],
   "source": [
    "model_rf_upsampled.fit(x_train, y_train)"
   ]
  },
  {
   "cell_type": "code",
   "execution_count": 118,
   "metadata": {},
   "outputs": [],
   "source": [
    "y_pred_train = model_rf_upsampled.predict(x_train)\n",
    "y_pred_test = model_rf_upsampled.predict(x_test)"
   ]
  },
  {
   "cell_type": "code",
   "execution_count": 119,
   "metadata": {},
   "outputs": [
    {
     "name": "stdout",
     "output_type": "stream",
     "text": [
      "              precision    recall  f1-score   support\n",
      "\n",
      "           0       0.99      0.99      0.99    499432\n",
      "           1       0.99      0.99      0.99    624288\n",
      "\n",
      "    accuracy                           0.99   1123720\n",
      "   macro avg       0.99      0.99      0.99   1123720\n",
      "weighted avg       0.99      0.99      0.99   1123720\n",
      "\n"
     ]
    }
   ],
   "source": [
    "# classification report...for train set\n",
    "print(classification_report(y_train, y_pred_train))"
   ]
  },
  {
   "cell_type": "code",
   "execution_count": 120,
   "metadata": {},
   "outputs": [
    {
     "name": "stdout",
     "output_type": "stream",
     "text": [
      "              precision    recall  f1-score   support\n",
      "\n",
      "           0       0.84      0.86      0.85    124858\n",
      "           1       0.89      0.87      0.88    156073\n",
      "\n",
      "    accuracy                           0.87    280931\n",
      "   macro avg       0.86      0.87      0.86    280931\n",
      "weighted avg       0.87      0.87      0.87    280931\n",
      "\n"
     ]
    }
   ],
   "source": [
    "# classification report...for test set\n",
    "print(classification_report(y_test, y_pred_test))"
   ]
  },
  {
   "cell_type": "code",
   "execution_count": 121,
   "metadata": {},
   "outputs": [
    {
     "name": "stdout",
     "output_type": "stream",
     "text": [
      "              precision    recall  f1-score   support\n",
      "\n",
      "           0       0.90      0.86      0.88    260904\n",
      "           1       0.95      0.97      0.96    780361\n",
      "\n",
      "    accuracy                           0.94   1041265\n",
      "   macro avg       0.93      0.91      0.92   1041265\n",
      "weighted avg       0.94      0.94      0.94   1041265\n",
      "\n"
     ]
    }
   ],
   "source": [
    "y_pred_whole = model_rf_upsampled.predict(dataset.drop(['Result'],axis=1))\n",
    "\n",
    "print(classification_report(dataset.Result.values, y_pred_whole))"
   ]
  },
  {
   "cell_type": "code",
   "execution_count": 122,
   "metadata": {},
   "outputs": [
    {
     "data": {
      "text/plain": [
       "['model_rf_upsampled.joblib']"
      ]
     },
     "execution_count": 122,
     "metadata": {},
     "output_type": "execute_result"
    }
   ],
   "source": [
    "from joblib import dump, load\n",
    "dump(model_rf_upsampled, 'model_rf_upsampled.joblib')"
   ]
  },
  {
   "cell_type": "code",
   "execution_count": 123,
   "metadata": {},
   "outputs": [],
   "source": [
    "from sklearn.metrics import f1_score\n",
    "from sklearn.model_selection import StratifiedKFold \n",
    "\n",
    "skf = StratifiedKFold(n_splits=5, shuffle=True, random_state=1) \n",
    "lst_accu_stratified = [] \n",
    "\n",
    "x = dataset.drop(['Result'],axis=1).values\n",
    "y = dataset.Result.values\n",
    "   \n",
    "for train_index, test_index in skf.split(x, y): \n",
    "    x_train_fold, x_test_fold = x[train_index], x[test_index] \n",
    "    y_train_fold, y_test_fold = y[train_index], y[test_index] \n",
    "    model_rf_upsampled.fit(x_train_fold, y_train_fold)\n",
    "    lst_accu_stratified.append(f1_score(y_test_fold, model_rf_upsampled.predict(x_test_fold)))"
   ]
  },
  {
   "cell_type": "code",
   "execution_count": 124,
   "metadata": {},
   "outputs": [
    {
     "name": "stdout",
     "output_type": "stream",
     "text": [
      "List of possible F1 score: [0.8334086728587228, 0.8345982808837109, 0.8342140195390113, 0.8338922741121367, 0.8341324087363051]\n",
      "\n",
      "Maximum F1 score That can be obtained from this model is: 83.46\n",
      "\n",
      "Minimum F1 score: 83.34\n",
      "\n",
      "Overall F1 score: 83.4\n",
      "\n",
      "Standard Deviation is: 0.0\n"
     ]
    }
   ],
   "source": [
    "# Print the output. \n",
    "print('List of possible F1 score:', lst_accu_stratified) \n",
    "print('\\nMaximum F1 score That can be obtained from this model is:', \n",
    "      (np.round(max(lst_accu_stratified)*100, 2)))\n",
    "print('\\nMinimum F1 score:', \n",
    "      (np.round(min(lst_accu_stratified)*100,2))) \n",
    "print('\\nOverall F1 score:', \n",
    "     (np.round(np.mean(lst_accu_stratified)*100,2)))\n",
    "print('\\nStandard Deviation is:', np.round(np.std(lst_accu_stratified)))"
   ]
  },
  {
   "cell_type": "code",
   "execution_count": null,
   "metadata": {},
   "outputs": [],
   "source": []
  }
 ],
 "metadata": {
  "kernelspec": {
   "display_name": "Python 3",
   "language": "python",
   "name": "python3"
  },
  "language_info": {
   "codemirror_mode": {
    "name": "ipython",
    "version": 3
   },
   "file_extension": ".py",
   "mimetype": "text/x-python",
   "name": "python",
   "nbconvert_exporter": "python",
   "pygments_lexer": "ipython3",
   "version": "3.8.5"
  }
 },
 "nbformat": 4,
 "nbformat_minor": 4
}
